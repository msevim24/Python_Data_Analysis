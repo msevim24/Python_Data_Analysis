{
 "cells": [
  {
   "cell_type": "markdown",
   "id": "e975a34f-adce-4ad6-b962-6486107513e1",
   "metadata": {},
   "source": [
    "<div class=\"alert alert-block alert-info alert\">\n",
    "\n",
    "# <span style=\" color:red\">Anlaysis of Hotel Booking Demand Dataset"
   ]
  },
  {
   "cell_type": "markdown",
   "id": "8225df1f-a9d5-4222-9be0-ad0dc2cf56d1",
   "metadata": {},
   "source": [
    "\n",
    "\n",
    "## Data\n",
    "\n",
    "This data set contains booking information for a city hotel and a resort hotel, and includes information such as when the booking was made, length of stay, the number of adults, children, and/or babies, and the number of available parking spaces, among other things.\n",
    "\n",
    "All personally identifying information has been removed from the data.\n",
    "\n",
    "Acknowledgements\n",
    "The data is originally from the article Hotel Booking Demand Datasets, written by Nuno Antonio, Ana Almeida, and Luis Nunes for Data in Brief, Volume 22, February 2019.\n",
    "\n",
    "The information about the data and the most questions in this notebook were taken from Jose Portilla's Udemy Course. Only several questions were added.\n",
    "\n",
    "\n",
    "----------------------------\n",
    "\n",
    "##### NOTE: Names, Emails, Phone Numbers, and Credit Card numbers in the data are synthetic and not real information from people. The hotel data is real from the publication listed above."
   ]
  },
  {
   "cell_type": "markdown",
   "id": "9c68d293-7060-46b8-bc44-4c2444245da2",
   "metadata": {},
   "source": [
    "## Information about the dataset"
   ]
  },
  {
   "cell_type": "markdown",
   "id": "bd91ed60-0917-4879-9ee0-213a2a8ba8cd",
   "metadata": {},
   "source": [
    "<table><thead><tr class=\"rowsep-1\"><th scope=\"col\"><strong>Variable</strong></th><th scope=\"col\"><strong>Type</strong></th><th scope=\"col\"><strong>Description</strong></th><th scope=\"col\"><strong>Source/Engineering</strong></th></tr></thead><tbody><tr><th scope=\"row\"><em>ADR</em></th><td>Numeric</td><td>Average Daily Rate as defined by <a name=\"bbib5\" href=\"#bib5\" class=\"workspace-trigger\">[5]</a></td><td>BO, BL and TR / Calculated by dividing the sum of all lodging transactions by the total number of staying nights</td></tr><tr><th scope=\"row\"><em>Adults</em></th><td>Integer</td><td>Number of adults</td><td>BO and BL</td></tr><tr><th scope=\"row\"><em>Agent</em></th><td>Categorical</td><td>ID of the travel agency that made the booking<a name=\"btbl1fna\" href=\"#tbl1fna\" class=\"workspace-trigger\"><sup>a</sup></a></td><td>BO and BL</td></tr><tr><th scope=\"row\"><em>ArrivalDateDayOfMonth</em></th><td>Integer</td><td>Day of the month of the arrival date</td><td>BO and BL</td></tr><tr><th scope=\"row\"><em>ArrivalDateMonth</em></th><td>Categorical</td><td>Month of arrival date with 12 categories: “January” to “December”</td><td>BO and BL</td></tr><tr><th scope=\"row\"><em>ArrivalDateWeekNumber</em></th><td>Integer</td><td>Week number of the arrival date</td><td>BO and BL</td></tr><tr><th scope=\"row\"><em>ArrivalDateYear</em></th><td>Integer</td><td>Year of arrival date</td><td>BO and BL</td></tr><tr><th scope=\"row\"><em>AssignedRoomType</em></th><td>Categorical</td><td>Code for the type of room assigned to the booking. Sometimes the assigned room type differs from the reserved room type due to hotel operation reasons (e.g. overbooking) or by customer request. Code is presented instead of designation for anonymity reasons</td><td>BO and BL</td></tr><tr><th scope=\"row\"><em>Babies</em></th><td>Integer</td><td>Number of babies</td><td>BO and BL</td></tr><tr><th scope=\"row\"><em>BookingChanges</em></th><td>Integer</td><td>Number of changes/amendments made to the booking from the moment the booking was entered on the PMS until the moment of check-in or cancellation</td><td>BO and BL/Calculated by adding the number of unique iterations that change some of the booking attributes, namely: persons, arrival date, nights, reserved room type or meal</td></tr><tr><th scope=\"row\"><em>Children</em></th><td>Integer</td><td>Number of children</td><td>BO and BL/Sum of both payable and non-payable children</td></tr><tr><th scope=\"row\"><em>Company</em></th><td>Categorical</td><td>ID of the company/entity that made the booking or responsible for paying the booking. ID is presented instead of designation for anonymity reasons</td><td>BO and BL.</td></tr><tr><th scope=\"row\"><em>Country</em></th><td>Categorical</td><td>Country of origin. Categories are represented in the ISO 3155–3:2013 format <a name=\"bbib6\" href=\"#bib6\" class=\"workspace-trigger\">[6]</a></td><td>BO, BL and NT</td></tr><tr><th scope=\"row\"><br></th><td><br></td><td><br></td><td><br></td></tr><tr><th scope=\"row\" rowspan=\"5\"><em>CustomerType</em></th><td rowspan=\"5\">Categorical</td><td>Type of booking, assuming one of four categories:</td><td rowspan=\"5\">BO and BL</td></tr><tr><td>Contract - when the booking has an allotment or other type of contract associated to it;</td></tr><tr><td>Group – when the booking is associated to a group;</td></tr><tr><td>Transient – when the booking is not part of a group or contract, and is not associated to other transient booking;</td></tr><tr><td>Transient-party – when the booking is transient, but is associated to at least other transient booking</td></tr><tr><th scope=\"row\"><em>DaysInWaitingList</em></th><td>Integer</td><td>Number of days the booking was in the waiting list before it was confirmed to the customer</td><td>BO/Calculated by subtracting the date the booking was confirmed to the customer from the date the booking entered on the PMS</td></tr><tr><th scope=\"row\"><br></th><td><br></td><td><br></td><td><br></td></tr><tr><th scope=\"row\" rowspan=\"7\"><em>DepositType</em></th><td rowspan=\"7\">Categorical</td><td>Indication on if the customer made a deposit to guarantee the booking. This variable can assume three categories:</td><td rowspan=\"2\">BO and TR/Value calculated based on the payments identified for the booking in the transaction (TR) table before the booking׳s arrival or cancellation date.</td></tr><tr><td rowspan=\"3\">No Deposit – no deposit was made;</td></tr><tr><td>In case no payments were found the value is “No Deposit”.</td></tr><tr><td rowspan=\"2\">If the payment was equal or exceeded the total cost of stay, the value is set as “Non Refund”.</td></tr><tr><td rowspan=\"2\">Non Refund – a deposit was made in the value of the total stay cost;</td></tr><tr><td rowspan=\"2\">Otherwise the value is set as “Refundable”</td></tr><tr><td>Refundable – a deposit was made with a value under the total cost of stay.</td></tr><tr><th scope=\"row\"><em>DistributionChannel</em></th><td>Categorical</td><td>Booking distribution channel. The term “TA” means “Travel Agents” and “TO” means “Tour Operators”</td><td>BO, BL and DC</td></tr><tr><th scope=\"row\"><em>IsCanceled</em></th><td>Categorical</td><td>Value indicating if the booking was canceled (1) or not (0)</td><td>BO</td></tr><tr><th scope=\"row\"><em>IsRepeatedGuest</em></th><td>Categorical</td><td>Value indicating if the booking name was from a repeated guest (1) or not (0)</td><td>BO, BL and C/ Variable created by verifying if a profile was associated with the booking customer. If so, and if the customer profile creation date was prior to the creation date for the booking on the PMS database it was assumed the booking was from a repeated guest</td></tr><tr><th scope=\"row\"><em>LeadTime</em></th><td>Integer</td><td>Number of days that elapsed between the entering date of the booking into the PMS and the arrival date</td><td>BO and BL/ Subtraction of the entering date from the arrival date</td></tr><tr><th scope=\"row\"><em>MarketSegment</em></th><td>Categorical</td><td>Market segment designation. In categories, the term “TA” means “Travel Agents” and “TO” means “Tour Operators”</td><td>BO, BL and MS</td></tr><tr><th scope=\"row\"><br></th><td><br></td><td><br></td><td><br></td></tr><tr><th scope=\"row\" rowspan=\"5\"><em>Meal</em></th><td rowspan=\"5\">Categorical</td><td>Type of meal booked. Categories are presented in standard hospitality meal packages:</td><td rowspan=\"5\">BO, BL and ML</td></tr><tr><td>Undefined/SC – no meal package;</td></tr><tr><td>BB – Bed &amp; Breakfast;</td></tr><tr><td>HB – Half board (breakfast and one other meal – usually dinner);</td></tr><tr><td>FB – Full board (breakfast, lunch and dinner)</td></tr><tr><th scope=\"row\"><em>PreviousBookingsNotCanceled</em></th><td>Integer</td><td>Number of previous bookings not cancelled by the customer prior to the current booking</td><td>BO and BL / In case there was no customer profile associated with the booking, the value is set to 0. Otherwise, the value is the number of bookings with the same customer profile created before the current booking and not canceled.</td></tr><tr><th scope=\"row\"><em>PreviousCancellations</em></th><td>Integer</td><td>Number of previous bookings that were cancelled by the customer prior to the current booking</td><td>BO and BL/ In case there was no customer profile associated with the booking, the value is set to 0. Otherwise, the value is the number of bookings with the same customer profile created before the current booking and canceled.</td></tr><tr><th scope=\"row\"><em>RequiredCardParkingSpaces</em></th><td>Integer</td><td>Number of car parking spaces required by the customer</td><td>BO and BL</td></tr><tr><th scope=\"row\"><br></th><td><br></td><td><br></td><td><br></td></tr><tr><th scope=\"row\" rowspan=\"4\"><em>ReservationStatus</em></th><td rowspan=\"4\">Categorical</td><td>Reservation last status, assuming one of three categories:</td><td rowspan=\"4\">BO</td></tr><tr><td>Canceled – booking was canceled by the customer;</td></tr><tr><td>Check-Out – customer has checked in but already departed;</td></tr><tr><td>No-Show – customer did not check-in and did inform the hotel of the reason why</td></tr><tr><th scope=\"row\"><em>ReservationStatusDate</em></th><td>Date</td><td>Date at which the last status was set. This variable can be used in conjunction with the <em>ReservationStatus</em> to understand when was the booking canceled or when did the customer checked-out of the hotel</td><td>BO</td></tr><tr><th scope=\"row\"><em>ReservedRoomType</em></th><td>Categorical</td><td>Code of room type reserved. Code is presented instead of designation for anonymity reasons</td><td>BO and BL</td></tr><tr><th scope=\"row\"><em>StaysInWeekendNights</em></th><td>Integer</td><td>Number of weekend nights (Saturday or Sunday) the guest stayed or booked to stay at the hotel</td><td>BO and BL/ Calculated by counting the number of weekend nights from the total number of nights</td></tr><tr><th scope=\"row\"><em>StaysInWeekNights</em></th><td>Integer</td><td>Number of week nights (Monday to Friday) the guest stayed or booked to stay at the hotel</td><td>BO and BL/Calculated by counting the number of week nights from the total number of nights</td></tr><tr><th scope=\"row\"><em>TotalOfSpecialRequests</em></th><td>Integer</td><td>Number of special requests made by the customer (e.g. twin bed or high floor)</td><td>BO and BL/Sum of all special requests</td></tr></tbody></table>"
   ]
  },
  {
   "cell_type": "markdown",
   "id": "05d6a2d4-c3e8-447a-bdcf-fac8a5ea6786",
   "metadata": {},
   "source": [
    "## Questions and Answers"
   ]
  },
  {
   "cell_type": "markdown",
   "id": "304c3b17-7590-4f9d-b5cc-ce4285731992",
   "metadata": {},
   "source": [
    "#### Import NumPy and Pandas"
   ]
  },
  {
   "cell_type": "code",
   "execution_count": 1,
   "id": "5fd4a512-db3f-4e0f-911b-4d736aef652c",
   "metadata": {},
   "outputs": [],
   "source": [
    "import numpy as np\n",
    "import pandas as pd"
   ]
  },
  {
   "cell_type": "markdown",
   "id": "b6a32a17-67ed-43d9-9f70-5c946e94ae2b",
   "metadata": {},
   "source": [
    "#### 1- Read csv file"
   ]
  },
  {
   "cell_type": "code",
   "execution_count": 2,
   "id": "cf53e9d9-e7a6-4755-be84-9dde05aadb62",
   "metadata": {},
   "outputs": [],
   "source": [
    "hotels = pd.read_csv(\"hotel_booking_data.csv\")"
   ]
  },
  {
   "cell_type": "markdown",
   "id": "26cdc94e-6dd1-4682-a453-146a54e9d59c",
   "metadata": {},
   "source": [
    "#### 2- Explore the data"
   ]
  },
  {
   "cell_type": "code",
   "execution_count": 3,
   "id": "ccbd6d25-85e9-45d5-9ffe-b3d656e17757",
   "metadata": {},
   "outputs": [
    {
     "data": {
      "text/html": [
       "<div>\n",
       "<style scoped>\n",
       "    .dataframe tbody tr th:only-of-type {\n",
       "        vertical-align: middle;\n",
       "    }\n",
       "\n",
       "    .dataframe tbody tr th {\n",
       "        vertical-align: top;\n",
       "    }\n",
       "\n",
       "    .dataframe thead th {\n",
       "        text-align: right;\n",
       "    }\n",
       "</style>\n",
       "<table border=\"1\" class=\"dataframe\">\n",
       "  <thead>\n",
       "    <tr style=\"text-align: right;\">\n",
       "      <th></th>\n",
       "      <th>hotel</th>\n",
       "      <th>is_canceled</th>\n",
       "      <th>lead_time</th>\n",
       "      <th>arrival_date_year</th>\n",
       "      <th>arrival_date_month</th>\n",
       "      <th>arrival_date_week_number</th>\n",
       "      <th>arrival_date_day_of_month</th>\n",
       "      <th>stays_in_weekend_nights</th>\n",
       "      <th>stays_in_week_nights</th>\n",
       "      <th>adults</th>\n",
       "      <th>...</th>\n",
       "      <th>customer_type</th>\n",
       "      <th>adr</th>\n",
       "      <th>required_car_parking_spaces</th>\n",
       "      <th>total_of_special_requests</th>\n",
       "      <th>reservation_status</th>\n",
       "      <th>reservation_status_date</th>\n",
       "      <th>name</th>\n",
       "      <th>email</th>\n",
       "      <th>phone-number</th>\n",
       "      <th>credit_card</th>\n",
       "    </tr>\n",
       "  </thead>\n",
       "  <tbody>\n",
       "    <tr>\n",
       "      <th>0</th>\n",
       "      <td>Resort Hotel</td>\n",
       "      <td>0</td>\n",
       "      <td>342</td>\n",
       "      <td>2015</td>\n",
       "      <td>July</td>\n",
       "      <td>27</td>\n",
       "      <td>1</td>\n",
       "      <td>0</td>\n",
       "      <td>0</td>\n",
       "      <td>2</td>\n",
       "      <td>...</td>\n",
       "      <td>Transient</td>\n",
       "      <td>0.0</td>\n",
       "      <td>0</td>\n",
       "      <td>0</td>\n",
       "      <td>Check-Out</td>\n",
       "      <td>2015-07-01</td>\n",
       "      <td>Ernest Barnes</td>\n",
       "      <td>Ernest.Barnes31@outlook.com</td>\n",
       "      <td>669-792-1661</td>\n",
       "      <td>************4322</td>\n",
       "    </tr>\n",
       "    <tr>\n",
       "      <th>1</th>\n",
       "      <td>Resort Hotel</td>\n",
       "      <td>0</td>\n",
       "      <td>737</td>\n",
       "      <td>2015</td>\n",
       "      <td>July</td>\n",
       "      <td>27</td>\n",
       "      <td>1</td>\n",
       "      <td>0</td>\n",
       "      <td>0</td>\n",
       "      <td>2</td>\n",
       "      <td>...</td>\n",
       "      <td>Transient</td>\n",
       "      <td>0.0</td>\n",
       "      <td>0</td>\n",
       "      <td>0</td>\n",
       "      <td>Check-Out</td>\n",
       "      <td>2015-07-01</td>\n",
       "      <td>Andrea Baker</td>\n",
       "      <td>Andrea_Baker94@aol.com</td>\n",
       "      <td>858-637-6955</td>\n",
       "      <td>************9157</td>\n",
       "    </tr>\n",
       "    <tr>\n",
       "      <th>2</th>\n",
       "      <td>Resort Hotel</td>\n",
       "      <td>0</td>\n",
       "      <td>7</td>\n",
       "      <td>2015</td>\n",
       "      <td>July</td>\n",
       "      <td>27</td>\n",
       "      <td>1</td>\n",
       "      <td>0</td>\n",
       "      <td>1</td>\n",
       "      <td>1</td>\n",
       "      <td>...</td>\n",
       "      <td>Transient</td>\n",
       "      <td>75.0</td>\n",
       "      <td>0</td>\n",
       "      <td>0</td>\n",
       "      <td>Check-Out</td>\n",
       "      <td>2015-07-02</td>\n",
       "      <td>Rebecca Parker</td>\n",
       "      <td>Rebecca_Parker@comcast.net</td>\n",
       "      <td>652-885-2745</td>\n",
       "      <td>************3734</td>\n",
       "    </tr>\n",
       "    <tr>\n",
       "      <th>3</th>\n",
       "      <td>Resort Hotel</td>\n",
       "      <td>0</td>\n",
       "      <td>13</td>\n",
       "      <td>2015</td>\n",
       "      <td>July</td>\n",
       "      <td>27</td>\n",
       "      <td>1</td>\n",
       "      <td>0</td>\n",
       "      <td>1</td>\n",
       "      <td>1</td>\n",
       "      <td>...</td>\n",
       "      <td>Transient</td>\n",
       "      <td>75.0</td>\n",
       "      <td>0</td>\n",
       "      <td>0</td>\n",
       "      <td>Check-Out</td>\n",
       "      <td>2015-07-02</td>\n",
       "      <td>Laura Murray</td>\n",
       "      <td>Laura_M@gmail.com</td>\n",
       "      <td>364-656-8427</td>\n",
       "      <td>************5677</td>\n",
       "    </tr>\n",
       "    <tr>\n",
       "      <th>4</th>\n",
       "      <td>Resort Hotel</td>\n",
       "      <td>0</td>\n",
       "      <td>14</td>\n",
       "      <td>2015</td>\n",
       "      <td>July</td>\n",
       "      <td>27</td>\n",
       "      <td>1</td>\n",
       "      <td>0</td>\n",
       "      <td>2</td>\n",
       "      <td>2</td>\n",
       "      <td>...</td>\n",
       "      <td>Transient</td>\n",
       "      <td>98.0</td>\n",
       "      <td>0</td>\n",
       "      <td>1</td>\n",
       "      <td>Check-Out</td>\n",
       "      <td>2015-07-03</td>\n",
       "      <td>Linda Hines</td>\n",
       "      <td>LHines@verizon.com</td>\n",
       "      <td>713-226-5883</td>\n",
       "      <td>************5498</td>\n",
       "    </tr>\n",
       "  </tbody>\n",
       "</table>\n",
       "<p>5 rows × 36 columns</p>\n",
       "</div>"
      ],
      "text/plain": [
       "          hotel  is_canceled  lead_time  arrival_date_year arrival_date_month  \\\n",
       "0  Resort Hotel            0        342               2015               July   \n",
       "1  Resort Hotel            0        737               2015               July   \n",
       "2  Resort Hotel            0          7               2015               July   \n",
       "3  Resort Hotel            0         13               2015               July   \n",
       "4  Resort Hotel            0         14               2015               July   \n",
       "\n",
       "   arrival_date_week_number  arrival_date_day_of_month  \\\n",
       "0                        27                          1   \n",
       "1                        27                          1   \n",
       "2                        27                          1   \n",
       "3                        27                          1   \n",
       "4                        27                          1   \n",
       "\n",
       "   stays_in_weekend_nights  stays_in_week_nights  adults  ...  customer_type  \\\n",
       "0                        0                     0       2  ...      Transient   \n",
       "1                        0                     0       2  ...      Transient   \n",
       "2                        0                     1       1  ...      Transient   \n",
       "3                        0                     1       1  ...      Transient   \n",
       "4                        0                     2       2  ...      Transient   \n",
       "\n",
       "    adr required_car_parking_spaces total_of_special_requests  \\\n",
       "0   0.0                           0                         0   \n",
       "1   0.0                           0                         0   \n",
       "2  75.0                           0                         0   \n",
       "3  75.0                           0                         0   \n",
       "4  98.0                           0                         1   \n",
       "\n",
       "  reservation_status reservation_status_date            name  \\\n",
       "0          Check-Out              2015-07-01   Ernest Barnes   \n",
       "1          Check-Out              2015-07-01    Andrea Baker   \n",
       "2          Check-Out              2015-07-02  Rebecca Parker   \n",
       "3          Check-Out              2015-07-02    Laura Murray   \n",
       "4          Check-Out              2015-07-03     Linda Hines   \n",
       "\n",
       "                         email  phone-number       credit_card  \n",
       "0  Ernest.Barnes31@outlook.com  669-792-1661  ************4322  \n",
       "1       Andrea_Baker94@aol.com  858-637-6955  ************9157  \n",
       "2   Rebecca_Parker@comcast.net  652-885-2745  ************3734  \n",
       "3            Laura_M@gmail.com  364-656-8427  ************5677  \n",
       "4           LHines@verizon.com  713-226-5883  ************5498  \n",
       "\n",
       "[5 rows x 36 columns]"
      ]
     },
     "execution_count": 3,
     "metadata": {},
     "output_type": "execute_result"
    }
   ],
   "source": [
    "# First , let's use haed to have alook at the data\n",
    "hotels.head()"
   ]
  },
  {
   "cell_type": "code",
   "execution_count": 4,
   "id": "733091e6-ae29-4460-b6bc-53c459557449",
   "metadata": {
    "scrolled": true
   },
   "outputs": [
    {
     "name": "stdout",
     "output_type": "stream",
     "text": [
      "<class 'pandas.core.frame.DataFrame'>\n",
      "RangeIndex: 119390 entries, 0 to 119389\n",
      "Data columns (total 36 columns):\n",
      " #   Column                          Non-Null Count   Dtype  \n",
      "---  ------                          --------------   -----  \n",
      " 0   hotel                           119390 non-null  object \n",
      " 1   is_canceled                     119390 non-null  int64  \n",
      " 2   lead_time                       119390 non-null  int64  \n",
      " 3   arrival_date_year               119390 non-null  int64  \n",
      " 4   arrival_date_month              119390 non-null  object \n",
      " 5   arrival_date_week_number        119390 non-null  int64  \n",
      " 6   arrival_date_day_of_month       119390 non-null  int64  \n",
      " 7   stays_in_weekend_nights         119390 non-null  int64  \n",
      " 8   stays_in_week_nights            119390 non-null  int64  \n",
      " 9   adults                          119390 non-null  int64  \n",
      " 10  children                        119386 non-null  float64\n",
      " 11  babies                          119390 non-null  int64  \n",
      " 12  meal                            119390 non-null  object \n",
      " 13  country                         118902 non-null  object \n",
      " 14  market_segment                  119390 non-null  object \n",
      " 15  distribution_channel            119390 non-null  object \n",
      " 16  is_repeated_guest               119390 non-null  int64  \n",
      " 17  previous_cancellations          119390 non-null  int64  \n",
      " 18  previous_bookings_not_canceled  119390 non-null  int64  \n",
      " 19  reserved_room_type              119390 non-null  object \n",
      " 20  assigned_room_type              119390 non-null  object \n",
      " 21  booking_changes                 119390 non-null  int64  \n",
      " 22  deposit_type                    119390 non-null  object \n",
      " 23  agent                           103050 non-null  float64\n",
      " 24  company                         6797 non-null    float64\n",
      " 25  days_in_waiting_list            119390 non-null  int64  \n",
      " 26  customer_type                   119390 non-null  object \n",
      " 27  adr                             119390 non-null  float64\n",
      " 28  required_car_parking_spaces     119390 non-null  int64  \n",
      " 29  total_of_special_requests       119390 non-null  int64  \n",
      " 30  reservation_status              119390 non-null  object \n",
      " 31  reservation_status_date         119390 non-null  object \n",
      " 32  name                            119390 non-null  object \n",
      " 33  email                           119390 non-null  object \n",
      " 34  phone-number                    119390 non-null  object \n",
      " 35  credit_card                     119390 non-null  object \n",
      "dtypes: float64(4), int64(16), object(16)\n",
      "memory usage: 32.8+ MB\n"
     ]
    }
   ],
   "source": [
    "# Detailed information about null values and data types\n",
    "hotels.info()\n",
    "\n",
    "# There are 119390 entries and 36 columns"
   ]
  },
  {
   "cell_type": "markdown",
   "id": "f8751860-7443-4127-8808-c7114111ea8c",
   "metadata": {},
   "source": [
    "#### 3- Display the column names"
   ]
  },
  {
   "cell_type": "code",
   "execution_count": 5,
   "id": "8f50b7b3-68a4-4213-95d6-ab75224f5788",
   "metadata": {},
   "outputs": [
    {
     "data": {
      "text/plain": [
       "Index(['hotel', 'is_canceled', 'lead_time', 'arrival_date_year',\n",
       "       'arrival_date_month', 'arrival_date_week_number',\n",
       "       'arrival_date_day_of_month', 'stays_in_weekend_nights',\n",
       "       'stays_in_week_nights', 'adults', 'children', 'babies', 'meal',\n",
       "       'country', 'market_segment', 'distribution_channel',\n",
       "       'is_repeated_guest', 'previous_cancellations',\n",
       "       'previous_bookings_not_canceled', 'reserved_room_type',\n",
       "       'assigned_room_type', 'booking_changes', 'deposit_type', 'agent',\n",
       "       'company', 'days_in_waiting_list', 'customer_type', 'adr',\n",
       "       'required_car_parking_spaces', 'total_of_special_requests',\n",
       "       'reservation_status', 'reservation_status_date', 'name', 'email',\n",
       "       'phone-number', 'credit_card'],\n",
       "      dtype='object')"
      ]
     },
     "execution_count": 5,
     "metadata": {},
     "output_type": "execute_result"
    }
   ],
   "source": [
    "# Let's see its cloumns\n",
    "hotels.columns"
   ]
  },
  {
   "cell_type": "markdown",
   "id": "485c78ab-08b1-485b-ac14-9b2e9f609ff2",
   "metadata": {},
   "source": [
    "#### 4- How many columns are there?"
   ]
  },
  {
   "cell_type": "code",
   "execution_count": 6,
   "id": "33ca7d4f-1c45-41d1-9067-15f1438d26af",
   "metadata": {},
   "outputs": [
    {
     "data": {
      "text/plain": [
       "36"
      ]
     },
     "execution_count": 6,
     "metadata": {},
     "output_type": "execute_result"
    }
   ],
   "source": [
    "# The number of columns\n",
    "len(hotels.columns)"
   ]
  },
  {
   "cell_type": "markdown",
   "id": "ea0cac63-1177-4b81-8e6c-2b910b92248e",
   "metadata": {},
   "source": [
    "#### 5- How many rows are there?"
   ]
  },
  {
   "cell_type": "code",
   "execution_count": 7,
   "id": "838dcd8b-06a8-49ff-bbc2-e9bbe1526d01",
   "metadata": {},
   "outputs": [
    {
     "data": {
      "text/plain": [
       "RangeIndex(start=0, stop=119390, step=1)"
      ]
     },
     "execution_count": 7,
     "metadata": {},
     "output_type": "execute_result"
    }
   ],
   "source": [
    "# We have already seen the number of rows and columns when we look at its \"info\". \n",
    "# Also, Index information shows us the number of rows: 119390\n",
    "hotels.index "
   ]
  },
  {
   "cell_type": "code",
   "execution_count": 8,
   "id": "c53d3ae1-b695-4c91-b97d-2bdf76725066",
   "metadata": {},
   "outputs": [
    {
     "data": {
      "text/plain": [
       "119390"
      ]
     },
     "execution_count": 8,
     "metadata": {},
     "output_type": "execute_result"
    }
   ],
   "source": [
    "# The length of the data also gives us the number of row\n",
    "len(hotels)"
   ]
  },
  {
   "cell_type": "markdown",
   "id": "56b6e7cf-fca2-4f95-88a0-a28356cac4b0",
   "metadata": {},
   "source": [
    "#### 6- Is there any missing data? Which columns have missing data?"
   ]
  },
  {
   "cell_type": "code",
   "execution_count": 9,
   "id": "20b31eb9-6cd7-49f1-ab2e-e2d846c58070",
   "metadata": {},
   "outputs": [
    {
     "data": {
      "text/plain": [
       "hotel                                  0\n",
       "is_canceled                            0\n",
       "lead_time                              0\n",
       "arrival_date_year                      0\n",
       "arrival_date_month                     0\n",
       "arrival_date_week_number               0\n",
       "arrival_date_day_of_month              0\n",
       "stays_in_weekend_nights                0\n",
       "stays_in_week_nights                   0\n",
       "adults                                 0\n",
       "children                               4\n",
       "babies                                 0\n",
       "meal                                   0\n",
       "country                              488\n",
       "market_segment                         0\n",
       "distribution_channel                   0\n",
       "is_repeated_guest                      0\n",
       "previous_cancellations                 0\n",
       "previous_bookings_not_canceled         0\n",
       "reserved_room_type                     0\n",
       "assigned_room_type                     0\n",
       "booking_changes                        0\n",
       "deposit_type                           0\n",
       "agent                              16340\n",
       "company                           112593\n",
       "days_in_waiting_list                   0\n",
       "customer_type                          0\n",
       "adr                                    0\n",
       "required_car_parking_spaces            0\n",
       "total_of_special_requests              0\n",
       "reservation_status                     0\n",
       "reservation_status_date                0\n",
       "name                                   0\n",
       "email                                  0\n",
       "phone-number                           0\n",
       "credit_card                            0\n",
       "dtype: int64"
      ]
     },
     "execution_count": 9,
     "metadata": {},
     "output_type": "execute_result"
    }
   ],
   "source": [
    "# First method is \"isna()\". Take its sum\n",
    "hotels.isna().sum()"
   ]
  },
  {
   "cell_type": "code",
   "execution_count": 10,
   "id": "282ef186-783d-4def-b27c-f571ef86960d",
   "metadata": {},
   "outputs": [
    {
     "data": {
      "text/plain": [
       "hotel                                  0\n",
       "is_canceled                            0\n",
       "lead_time                              0\n",
       "arrival_date_year                      0\n",
       "arrival_date_month                     0\n",
       "arrival_date_week_number               0\n",
       "arrival_date_day_of_month              0\n",
       "stays_in_weekend_nights                0\n",
       "stays_in_week_nights                   0\n",
       "adults                                 0\n",
       "children                               4\n",
       "babies                                 0\n",
       "meal                                   0\n",
       "country                              488\n",
       "market_segment                         0\n",
       "distribution_channel                   0\n",
       "is_repeated_guest                      0\n",
       "previous_cancellations                 0\n",
       "previous_bookings_not_canceled         0\n",
       "reserved_room_type                     0\n",
       "assigned_room_type                     0\n",
       "booking_changes                        0\n",
       "deposit_type                           0\n",
       "agent                              16340\n",
       "company                           112593\n",
       "days_in_waiting_list                   0\n",
       "customer_type                          0\n",
       "adr                                    0\n",
       "required_car_parking_spaces            0\n",
       "total_of_special_requests              0\n",
       "reservation_status                     0\n",
       "reservation_status_date                0\n",
       "name                                   0\n",
       "email                                  0\n",
       "phone-number                           0\n",
       "credit_card                            0\n",
       "dtype: int64"
      ]
     },
     "execution_count": 10,
     "metadata": {},
     "output_type": "execute_result"
    }
   ],
   "source": [
    "# Another method is \"isnull()\"\n",
    "hotels.isnull().sum()"
   ]
  },
  {
   "cell_type": "markdown",
   "id": "42bbaf75-d4c5-4aca-bbc9-6be7685b6ba3",
   "metadata": {},
   "source": [
    "There are 3 columns with null values: \"country\"  (488), \"agent\" (16340) and \"company\" (112593)."
   ]
  },
  {
   "cell_type": "markdown",
   "id": "71ef20ee-fc3c-418b-9b17-aa731a85508e",
   "metadata": {},
   "source": [
    "#### 7- Drop the \"company\" column that has lots of null values."
   ]
  },
  {
   "cell_type": "code",
   "execution_count": 11,
   "id": "f8a73335-e0b5-418b-b794-088561e723b6",
   "metadata": {},
   "outputs": [
    {
     "data": {
      "text/plain": [
       "hotel                                  0\n",
       "is_canceled                            0\n",
       "lead_time                              0\n",
       "arrival_date_year                      0\n",
       "arrival_date_month                     0\n",
       "arrival_date_week_number               0\n",
       "arrival_date_day_of_month              0\n",
       "stays_in_weekend_nights                0\n",
       "stays_in_week_nights                   0\n",
       "adults                                 0\n",
       "children                               4\n",
       "babies                                 0\n",
       "meal                                   0\n",
       "country                              488\n",
       "market_segment                         0\n",
       "distribution_channel                   0\n",
       "is_repeated_guest                      0\n",
       "previous_cancellations                 0\n",
       "previous_bookings_not_canceled         0\n",
       "reserved_room_type                     0\n",
       "assigned_room_type                     0\n",
       "booking_changes                        0\n",
       "deposit_type                           0\n",
       "agent                              16340\n",
       "company                           112593\n",
       "days_in_waiting_list                   0\n",
       "customer_type                          0\n",
       "adr                                    0\n",
       "required_car_parking_spaces            0\n",
       "total_of_special_requests              0\n",
       "reservation_status                     0\n",
       "reservation_status_date                0\n",
       "name                                   0\n",
       "email                                  0\n",
       "phone-number                           0\n",
       "credit_card                            0\n",
       "dtype: int64"
      ]
     },
     "execution_count": 11,
     "metadata": {},
     "output_type": "execute_result"
    }
   ],
   "source": [
    "# Use isnull methot and then sum(). Without sum it gives boolean values.\n",
    "hotels.isnull().sum()"
   ]
  },
  {
   "cell_type": "code",
   "execution_count": 12,
   "id": "cd8ce616-2e3a-497c-a04e-412ccef22459",
   "metadata": {},
   "outputs": [],
   "source": [
    "hotels =hotels.drop(\"company\", axis=1)  # be careful about the axis"
   ]
  },
  {
   "cell_type": "markdown",
   "id": "e5375bae-a934-49ec-ab86-8f62476b61ea",
   "metadata": {},
   "source": [
    "#### 8- What are the top 5 most common country codes in the dataset? "
   ]
  },
  {
   "cell_type": "code",
   "execution_count": 13,
   "id": "163a9317-8087-4dbf-b1c8-3db1d870871c",
   "metadata": {},
   "outputs": [
    {
     "data": {
      "text/plain": [
       "country\n",
       "PRT    48590\n",
       "GBR    12129\n",
       "FRA    10415\n",
       "ESP     8568\n",
       "DEU     7287\n",
       "       ...  \n",
       "DJI        1\n",
       "BWA        1\n",
       "HND        1\n",
       "VGB        1\n",
       "NAM        1\n",
       "Name: count, Length: 177, dtype: int64"
      ]
     },
     "execution_count": 13,
     "metadata": {},
     "output_type": "execute_result"
    }
   ],
   "source": [
    "# Let's check the categories in the country column\n",
    "hotels[\"country\"].value_counts()"
   ]
  },
  {
   "cell_type": "code",
   "execution_count": 14,
   "id": "052d175b-3408-4db2-b7a3-2ce7fda89142",
   "metadata": {},
   "outputs": [
    {
     "data": {
      "text/plain": [
       "country\n",
       "PRT    48590\n",
       "GBR    12129\n",
       "FRA    10415\n",
       "ESP     8568\n",
       "DEU     7287\n",
       "Name: count, dtype: int64"
      ]
     },
     "execution_count": 14,
     "metadata": {},
     "output_type": "execute_result"
    }
   ],
   "source": [
    "# We can show only top 5\n",
    "hotels[\"country\"].value_counts()[:5]"
   ]
  },
  {
   "cell_type": "code",
   "execution_count": 15,
   "id": "ed0a14f8-9633-418e-aa07-579818a45ad3",
   "metadata": {},
   "outputs": [
    {
     "data": {
      "text/plain": [
       "country\n",
       "PRT    48590\n",
       "GBR    12129\n",
       "FRA    10415\n",
       "ESP     8568\n",
       "DEU     7287\n",
       "       ...  \n",
       "MLI        1\n",
       "MMR        1\n",
       "MRT        1\n",
       "SMR        1\n",
       "PYF        1\n",
       "Name: hotel, Length: 177, dtype: int64"
      ]
     },
     "execution_count": 15,
     "metadata": {},
     "output_type": "execute_result"
    }
   ],
   "source": [
    "# Another way is groupby method  tohether with count and sort_values\n",
    "# Just take one of the columns to show it because it will show the same number for all columns. I take \"hotel\"\n",
    "hotels.groupby(\"country\").count().sort_values(\"hotel\", ascending=False)[\"hotel\"]"
   ]
  },
  {
   "cell_type": "markdown",
   "id": "b6b3030c-aae5-4b0f-b9cc-5641d98f9746",
   "metadata": {},
   "source": [
    "The most common 5 country codes are PRT, GBR, FRA, ESP and DEU."
   ]
  },
  {
   "cell_type": "markdown",
   "id": "48fc89a0-c11c-4b9f-bccd-b8d0ad80c897",
   "metadata": {},
   "source": [
    "#### 9 -What is the name of person who paid the highest average daily rate (ADR)? How much was their ADR?"
   ]
  },
  {
   "cell_type": "code",
   "execution_count": 16,
   "id": "e611655d-4e0a-411f-a5db-23452432850c",
   "metadata": {},
   "outputs": [
    {
     "data": {
      "text/html": [
       "<div>\n",
       "<style scoped>\n",
       "    .dataframe tbody tr th:only-of-type {\n",
       "        vertical-align: middle;\n",
       "    }\n",
       "\n",
       "    .dataframe tbody tr th {\n",
       "        vertical-align: top;\n",
       "    }\n",
       "\n",
       "    .dataframe thead th {\n",
       "        text-align: right;\n",
       "    }\n",
       "</style>\n",
       "<table border=\"1\" class=\"dataframe\">\n",
       "  <thead>\n",
       "    <tr style=\"text-align: right;\">\n",
       "      <th></th>\n",
       "      <th>adr</th>\n",
       "      <th>name</th>\n",
       "    </tr>\n",
       "  </thead>\n",
       "  <tbody>\n",
       "    <tr>\n",
       "      <th>48515</th>\n",
       "      <td>5400.00</td>\n",
       "      <td>Daniel Walter</td>\n",
       "    </tr>\n",
       "    <tr>\n",
       "      <th>111403</th>\n",
       "      <td>510.00</td>\n",
       "      <td>Jesus Mason</td>\n",
       "    </tr>\n",
       "    <tr>\n",
       "      <th>15083</th>\n",
       "      <td>508.00</td>\n",
       "      <td>Samuel Hammond</td>\n",
       "    </tr>\n",
       "    <tr>\n",
       "      <th>103912</th>\n",
       "      <td>451.50</td>\n",
       "      <td>Jessica Morris</td>\n",
       "    </tr>\n",
       "    <tr>\n",
       "      <th>13142</th>\n",
       "      <td>450.00</td>\n",
       "      <td>Amy Banks</td>\n",
       "    </tr>\n",
       "    <tr>\n",
       "      <th>...</th>\n",
       "      <td>...</td>\n",
       "      <td>...</td>\n",
       "    </tr>\n",
       "    <tr>\n",
       "      <th>110204</th>\n",
       "      <td>0.00</td>\n",
       "      <td>Ashley Lewis</td>\n",
       "    </tr>\n",
       "    <tr>\n",
       "      <th>13973</th>\n",
       "      <td>0.00</td>\n",
       "      <td>Yvonne Pena</td>\n",
       "    </tr>\n",
       "    <tr>\n",
       "      <th>90028</th>\n",
       "      <td>0.00</td>\n",
       "      <td>Kayla Reilly</td>\n",
       "    </tr>\n",
       "    <tr>\n",
       "      <th>0</th>\n",
       "      <td>0.00</td>\n",
       "      <td>Ernest Barnes</td>\n",
       "    </tr>\n",
       "    <tr>\n",
       "      <th>14969</th>\n",
       "      <td>-6.38</td>\n",
       "      <td>Chase Santos</td>\n",
       "    </tr>\n",
       "  </tbody>\n",
       "</table>\n",
       "<p>119390 rows × 2 columns</p>\n",
       "</div>"
      ],
      "text/plain": [
       "            adr            name\n",
       "48515   5400.00   Daniel Walter\n",
       "111403   510.00     Jesus Mason\n",
       "15083    508.00  Samuel Hammond\n",
       "103912   451.50  Jessica Morris\n",
       "13142    450.00       Amy Banks\n",
       "...         ...             ...\n",
       "110204     0.00    Ashley Lewis\n",
       "13973      0.00     Yvonne Pena\n",
       "90028      0.00    Kayla Reilly\n",
       "0          0.00   Ernest Barnes\n",
       "14969     -6.38    Chase Santos\n",
       "\n",
       "[119390 rows x 2 columns]"
      ]
     },
     "execution_count": 16,
     "metadata": {},
     "output_type": "execute_result"
    }
   ],
   "source": [
    "# \"adr\" is one of the column names. Sort values to find the answer\n",
    "# Then select adr and name to find the name of the person\n",
    "hotels.sort_values(\"adr\", ascending=False)[[\"adr\",\"name\"]]"
   ]
  },
  {
   "cell_type": "code",
   "execution_count": 17,
   "id": "6f4fd83e-9fff-4481-bacf-e84c09ffe6d3",
   "metadata": {},
   "outputs": [
    {
     "data": {
      "text/plain": [
       "adr            5400.0\n",
       "name    Daniel Walter\n",
       "Name: 48515, dtype: object"
      ]
     },
     "execution_count": 17,
     "metadata": {},
     "output_type": "execute_result"
    }
   ],
   "source": [
    "# To see only this person use iloc[] for the first index\n",
    "hotels.sort_values(\"adr\", ascending=False)[[\"adr\",\"name\"]].iloc[0]"
   ]
  },
  {
   "cell_type": "code",
   "execution_count": 18,
   "id": "d627991c-b741-425d-a9ec-4b66e4036a91",
   "metadata": {},
   "outputs": [
    {
     "data": {
      "text/plain": [
       "48515"
      ]
     },
     "execution_count": 18,
     "metadata": {},
     "output_type": "execute_result"
    }
   ],
   "source": [
    "# Another way is to find maximum index of adr, then reach the name throug this index.\n",
    "hotels[\"adr\"].idxmax()"
   ]
  },
  {
   "cell_type": "code",
   "execution_count": 19,
   "id": "1a5f9b9b-0509-483b-95d9-52ea0e206a26",
   "metadata": {},
   "outputs": [
    {
     "data": {
      "text/plain": [
       "hotel                                             City Hotel\n",
       "is_canceled                                                1\n",
       "lead_time                                                 35\n",
       "arrival_date_year                                       2016\n",
       "arrival_date_month                                     March\n",
       "arrival_date_week_number                                  13\n",
       "arrival_date_day_of_month                                 25\n",
       "stays_in_weekend_nights                                    0\n",
       "stays_in_week_nights                                       1\n",
       "adults                                                     2\n",
       "children                                                 0.0\n",
       "babies                                                     0\n",
       "meal                                                      BB\n",
       "country                                                  PRT\n",
       "market_segment                                 Offline TA/TO\n",
       "distribution_channel                                   TA/TO\n",
       "is_repeated_guest                                          0\n",
       "previous_cancellations                                     0\n",
       "previous_bookings_not_canceled                             0\n",
       "reserved_room_type                                         A\n",
       "assigned_room_type                                         A\n",
       "booking_changes                                            1\n",
       "deposit_type                                      Non Refund\n",
       "agent                                                   12.0\n",
       "days_in_waiting_list                                       0\n",
       "customer_type                                      Transient\n",
       "adr                                                   5400.0\n",
       "required_car_parking_spaces                                0\n",
       "total_of_special_requests                                  0\n",
       "reservation_status                                  Canceled\n",
       "reservation_status_date                           2016-02-19\n",
       "name                                           Daniel Walter\n",
       "email                             DanielWalter27@comcast.net\n",
       "phone-number                                    865-280-5832\n",
       "credit_card                                 ************6075\n",
       "Name: 48515, dtype: object"
      ]
     },
     "execution_count": 19,
     "metadata": {},
     "output_type": "execute_result"
    }
   ],
   "source": [
    "# Use index \"48515\" and grab all the information in this index\n",
    "hotels.iloc[48515]  # See the name \"Daniel Walter\""
   ]
  },
  {
   "cell_type": "code",
   "execution_count": 20,
   "id": "e953d927-d5f5-43d1-bc47-fea0037ba1c3",
   "metadata": {},
   "outputs": [
    {
     "data": {
      "text/plain": [
       "hotel                                             City Hotel\n",
       "is_canceled                                                1\n",
       "lead_time                                                 35\n",
       "arrival_date_year                                       2016\n",
       "arrival_date_month                                     March\n",
       "arrival_date_week_number                                  13\n",
       "arrival_date_day_of_month                                 25\n",
       "stays_in_weekend_nights                                    0\n",
       "stays_in_week_nights                                       1\n",
       "adults                                                     2\n",
       "children                                                 0.0\n",
       "babies                                                     0\n",
       "meal                                                      BB\n",
       "country                                                  PRT\n",
       "market_segment                                 Offline TA/TO\n",
       "distribution_channel                                   TA/TO\n",
       "is_repeated_guest                                          0\n",
       "previous_cancellations                                     0\n",
       "previous_bookings_not_canceled                             0\n",
       "reserved_room_type                                         A\n",
       "assigned_room_type                                         A\n",
       "booking_changes                                            1\n",
       "deposit_type                                      Non Refund\n",
       "agent                                                   12.0\n",
       "days_in_waiting_list                                       0\n",
       "customer_type                                      Transient\n",
       "adr                                                   5400.0\n",
       "required_car_parking_spaces                                0\n",
       "total_of_special_requests                                  0\n",
       "reservation_status                                  Canceled\n",
       "reservation_status_date                           2016-02-19\n",
       "name                                           Daniel Walter\n",
       "email                             DanielWalter27@comcast.net\n",
       "phone-number                                    865-280-5832\n",
       "credit_card                                 ************6075\n",
       "Name: 48515, dtype: object"
      ]
     },
     "execution_count": 20,
     "metadata": {},
     "output_type": "execute_result"
    }
   ],
   "source": [
    "# We could combine these two codes together\n",
    "hotels.iloc[hotels[\"adr\"].idxmax()]"
   ]
  },
  {
   "cell_type": "markdown",
   "id": "9079b3ab-8b61-4593-b7a6-d387d65736c0",
   "metadata": {},
   "source": [
    "#### 10- The adr is the average daily rate for a person's stay at the hotel. What is the mean adr across all the hotel stays in the dataset?"
   ]
  },
  {
   "cell_type": "code",
   "execution_count": 21,
   "id": "070495bb-3791-4104-86ec-b870a150fc2f",
   "metadata": {},
   "outputs": [
    {
     "data": {
      "text/plain": [
       "101.83112153446686"
      ]
     },
     "execution_count": 21,
     "metadata": {},
     "output_type": "execute_result"
    }
   ],
   "source": [
    "# Take the mean of the adr\n",
    "hotels[\"adr\"].mean()"
   ]
  },
  {
   "cell_type": "code",
   "execution_count": 22,
   "id": "a371b34d-f51d-4411-b3b3-dba34f3f4a8a",
   "metadata": {},
   "outputs": [
    {
     "data": {
      "text/plain": [
       "101.83"
      ]
     },
     "execution_count": 22,
     "metadata": {},
     "output_type": "execute_result"
    }
   ],
   "source": [
    "# We can round it and show only two decimals\n",
    "round(hotels[\"adr\"].mean(), 2)"
   ]
  },
  {
   "cell_type": "markdown",
   "id": "898f9aaa-1a93-4098-bc1e-8af756603334",
   "metadata": {},
   "source": [
    "#### 11- What is the average (mean) number of nights for a stay across the entire data set? "
   ]
  },
  {
   "cell_type": "code",
   "execution_count": 23,
   "id": "60ef6825-b17d-4310-95d1-f67051ae7795",
   "metadata": {},
   "outputs": [
    {
     "data": {
      "text/plain": [
       "stays_in_weekend_nights    0.93\n",
       "stays_in_week_nights       2.50\n",
       "dtype: float64"
      ]
     },
     "execution_count": 23,
     "metadata": {},
     "output_type": "execute_result"
    }
   ],
   "source": [
    "# There are two columns showing stay at nights: weekend and week\n",
    "round(hotels[[\"stays_in_weekend_nights\", \"stays_in_week_nights\"]].mean(), 2)"
   ]
  },
  {
   "cell_type": "code",
   "execution_count": 24,
   "id": "f7119e48-8c0e-4d96-b910-89db02b29b4c",
   "metadata": {},
   "outputs": [
    {
     "data": {
      "text/plain": [
       "3.43"
      ]
     },
     "execution_count": 24,
     "metadata": {},
     "output_type": "execute_result"
    }
   ],
   "source": [
    "# We can concat these two columns and take its mean\n",
    "# If we want to add this column to the dataset we can write it: hotels[...] = \n",
    "hotels[\"stay_nights\"] = hotels[\"stays_in_weekend_nights\" ] + hotels[\"stays_in_week_nights\"]\n",
    "round(hotels[\"stay_nights\"].mean(),2)\n",
    "\n",
    "# Without using hotels df, we could create just stay_nights df and find the answer "
   ]
  },
  {
   "cell_type": "markdown",
   "id": "6b84b3b3-7b76-47f7-87a1-0d1d6a135739",
   "metadata": {},
   "source": [
    "#### 12- What is the average total cost for a stay in the dataset? Not average daily cost, but total stay cost. (You will need to calculate total cost yourself by using ADR and week day and weeknight stays)."
   ]
  },
  {
   "cell_type": "code",
   "execution_count": 25,
   "id": "4d6029c1-e22e-4e81-9d71-95ae24e3f697",
   "metadata": {},
   "outputs": [
    {
     "data": {
      "text/plain": [
       "357.85"
      ]
     },
     "execution_count": 25,
     "metadata": {},
     "output_type": "execute_result"
    }
   ],
   "source": [
    "# We will multiply daily rate and total nights (week and weekend nights) stayed\n",
    "hotels[\"total_cost\"] = hotels[\"adr\"]*hotels[\"stay_nights\"] \n",
    "round(hotels[\"total_cost\"].mean(),2)                       # take its mean and round it"
   ]
  },
  {
   "cell_type": "markdown",
   "id": "28d16a3d-b20f-432c-9455-f0418a466e79",
   "metadata": {},
   "source": [
    "#### 13- What are the names and emails of people who made exactly 5 \"Special Requests\"?"
   ]
  },
  {
   "cell_type": "code",
   "execution_count": 26,
   "id": "77971bf4-0ef8-451a-86bc-da15d6ea0309",
   "metadata": {},
   "outputs": [
    {
     "data": {
      "text/html": [
       "<div>\n",
       "<style scoped>\n",
       "    .dataframe tbody tr th:only-of-type {\n",
       "        vertical-align: middle;\n",
       "    }\n",
       "\n",
       "    .dataframe tbody tr th {\n",
       "        vertical-align: top;\n",
       "    }\n",
       "\n",
       "    .dataframe thead th {\n",
       "        text-align: right;\n",
       "    }\n",
       "</style>\n",
       "<table border=\"1\" class=\"dataframe\">\n",
       "  <thead>\n",
       "    <tr style=\"text-align: right;\">\n",
       "      <th></th>\n",
       "      <th>name</th>\n",
       "      <th>email</th>\n",
       "    </tr>\n",
       "  </thead>\n",
       "  <tbody>\n",
       "    <tr>\n",
       "      <th>7860</th>\n",
       "      <td>Amanda Harper</td>\n",
       "      <td>Amanda.H66@yahoo.com</td>\n",
       "    </tr>\n",
       "    <tr>\n",
       "      <th>11125</th>\n",
       "      <td>Laura Sanders</td>\n",
       "      <td>Sanders_Laura@hotmail.com</td>\n",
       "    </tr>\n",
       "    <tr>\n",
       "      <th>14596</th>\n",
       "      <td>Tommy Ortiz</td>\n",
       "      <td>Tommy_O@hotmail.com</td>\n",
       "    </tr>\n",
       "    <tr>\n",
       "      <th>14921</th>\n",
       "      <td>Gilbert Miller</td>\n",
       "      <td>Miller.Gilbert@aol.com</td>\n",
       "    </tr>\n",
       "    <tr>\n",
       "      <th>14922</th>\n",
       "      <td>Timothy Torres</td>\n",
       "      <td>TTorres@protonmail.com</td>\n",
       "    </tr>\n",
       "    <tr>\n",
       "      <th>24630</th>\n",
       "      <td>Jennifer Weaver</td>\n",
       "      <td>Jennifer_W@aol.com</td>\n",
       "    </tr>\n",
       "    <tr>\n",
       "      <th>27288</th>\n",
       "      <td>Crystal Horton</td>\n",
       "      <td>Crystal.H@mail.com</td>\n",
       "    </tr>\n",
       "    <tr>\n",
       "      <th>27477</th>\n",
       "      <td>Brittney Burke</td>\n",
       "      <td>Burke_Brittney16@att.com</td>\n",
       "    </tr>\n",
       "    <tr>\n",
       "      <th>29906</th>\n",
       "      <td>Cynthia Cabrera</td>\n",
       "      <td>Cabrera.Cynthia@xfinity.com</td>\n",
       "    </tr>\n",
       "    <tr>\n",
       "      <th>29949</th>\n",
       "      <td>Sarah Floyd</td>\n",
       "      <td>Sarah_F@gmail.com</td>\n",
       "    </tr>\n",
       "    <tr>\n",
       "      <th>32267</th>\n",
       "      <td>Michelle Villa</td>\n",
       "      <td>Michelle.Villa@aol.com</td>\n",
       "    </tr>\n",
       "    <tr>\n",
       "      <th>39027</th>\n",
       "      <td>Nichole Hebert</td>\n",
       "      <td>Hebert.Nichole@gmail.com</td>\n",
       "    </tr>\n",
       "    <tr>\n",
       "      <th>39129</th>\n",
       "      <td>Lindsey Mckenzie</td>\n",
       "      <td>Lindsey.Mckenzie@att.com</td>\n",
       "    </tr>\n",
       "    <tr>\n",
       "      <th>39525</th>\n",
       "      <td>Ashley Edwards</td>\n",
       "      <td>Edwards.Ashley@yahoo.com</td>\n",
       "    </tr>\n",
       "    <tr>\n",
       "      <th>70114</th>\n",
       "      <td>Christopher Torres</td>\n",
       "      <td>Torres.Christopher@gmail.com</td>\n",
       "    </tr>\n",
       "    <tr>\n",
       "      <th>78819</th>\n",
       "      <td>Mrs. Tara Sullivan DVM</td>\n",
       "      <td>Mrs..DVM@xfinity.com</td>\n",
       "    </tr>\n",
       "    <tr>\n",
       "      <th>78820</th>\n",
       "      <td>Michaela Brown</td>\n",
       "      <td>MichaelaBrown@att.com</td>\n",
       "    </tr>\n",
       "    <tr>\n",
       "      <th>78822</th>\n",
       "      <td>Kurt Maldonado MD</td>\n",
       "      <td>KMD15@xfinity.com</td>\n",
       "    </tr>\n",
       "    <tr>\n",
       "      <th>97072</th>\n",
       "      <td>Jason Richardson</td>\n",
       "      <td>Jason.R@zoho.com</td>\n",
       "    </tr>\n",
       "    <tr>\n",
       "      <th>97099</th>\n",
       "      <td>Terri Hurley</td>\n",
       "      <td>THurley@xfinity.com</td>\n",
       "    </tr>\n",
       "    <tr>\n",
       "      <th>97261</th>\n",
       "      <td>Mrs. Caitlin Webb</td>\n",
       "      <td>Mrs._W@comcast.net</td>\n",
       "    </tr>\n",
       "    <tr>\n",
       "      <th>98410</th>\n",
       "      <td>Holly Arroyo</td>\n",
       "      <td>Arroyo_Holly@mail.com</td>\n",
       "    </tr>\n",
       "    <tr>\n",
       "      <th>98674</th>\n",
       "      <td>Denise Campbell</td>\n",
       "      <td>Denise_C@gmail.com</td>\n",
       "    </tr>\n",
       "    <tr>\n",
       "      <th>99887</th>\n",
       "      <td>Michael Smith</td>\n",
       "      <td>Michael.S42@aol.com</td>\n",
       "    </tr>\n",
       "    <tr>\n",
       "      <th>99888</th>\n",
       "      <td>Dr. Trevor Sellers</td>\n",
       "      <td>Dr._S@aol.com</td>\n",
       "    </tr>\n",
       "    <tr>\n",
       "      <th>101569</th>\n",
       "      <td>Kayla Murphy</td>\n",
       "      <td>Kayla.Murphy@yahoo.com</td>\n",
       "    </tr>\n",
       "    <tr>\n",
       "      <th>102061</th>\n",
       "      <td>Taylor Martinez</td>\n",
       "      <td>Taylor.Martinez@hotmail.com</td>\n",
       "    </tr>\n",
       "    <tr>\n",
       "      <th>109511</th>\n",
       "      <td>Charles Wilson</td>\n",
       "      <td>Charles_Wilson@yahoo.com</td>\n",
       "    </tr>\n",
       "    <tr>\n",
       "      <th>109590</th>\n",
       "      <td>Tyler Allison</td>\n",
       "      <td>Tyler.A@protonmail.com</td>\n",
       "    </tr>\n",
       "    <tr>\n",
       "      <th>110082</th>\n",
       "      <td>Matthew Bailey</td>\n",
       "      <td>Matthew_Bailey@aol.com</td>\n",
       "    </tr>\n",
       "    <tr>\n",
       "      <th>110083</th>\n",
       "      <td>Charlotte Acevedo</td>\n",
       "      <td>Charlotte_A@verizon.com</td>\n",
       "    </tr>\n",
       "    <tr>\n",
       "      <th>111909</th>\n",
       "      <td>Darrell Brennan</td>\n",
       "      <td>Brennan_Darrell51@hotmail.com</td>\n",
       "    </tr>\n",
       "    <tr>\n",
       "      <th>111911</th>\n",
       "      <td>Melinda Jensen</td>\n",
       "      <td>MelindaJensen@zoho.com</td>\n",
       "    </tr>\n",
       "    <tr>\n",
       "      <th>113915</th>\n",
       "      <td>Terry Arnold</td>\n",
       "      <td>Arnold.Terry@zoho.com</td>\n",
       "    </tr>\n",
       "    <tr>\n",
       "      <th>114770</th>\n",
       "      <td>Mary Nguyen</td>\n",
       "      <td>Nguyen.Mary@protonmail.com</td>\n",
       "    </tr>\n",
       "    <tr>\n",
       "      <th>114909</th>\n",
       "      <td>Lindsay Cuevas</td>\n",
       "      <td>Lindsay.Cuevas40@mail.com</td>\n",
       "    </tr>\n",
       "    <tr>\n",
       "      <th>116455</th>\n",
       "      <td>Cynthia Hernandez</td>\n",
       "      <td>CynthiaHernandez@xfinity.com</td>\n",
       "    </tr>\n",
       "    <tr>\n",
       "      <th>116457</th>\n",
       "      <td>Angela Hawkins</td>\n",
       "      <td>Angela_H@gmail.com</td>\n",
       "    </tr>\n",
       "    <tr>\n",
       "      <th>118817</th>\n",
       "      <td>Sue Lawson</td>\n",
       "      <td>Sue.L52@comcast.net</td>\n",
       "    </tr>\n",
       "    <tr>\n",
       "      <th>119161</th>\n",
       "      <td>Alyssa Richards</td>\n",
       "      <td>Alyssa_Richards@aol.com</td>\n",
       "    </tr>\n",
       "  </tbody>\n",
       "</table>\n",
       "</div>"
      ],
      "text/plain": [
       "                          name                          email\n",
       "7860             Amanda Harper           Amanda.H66@yahoo.com\n",
       "11125            Laura Sanders      Sanders_Laura@hotmail.com\n",
       "14596              Tommy Ortiz            Tommy_O@hotmail.com\n",
       "14921           Gilbert Miller         Miller.Gilbert@aol.com\n",
       "14922           Timothy Torres         TTorres@protonmail.com\n",
       "24630          Jennifer Weaver             Jennifer_W@aol.com\n",
       "27288           Crystal Horton             Crystal.H@mail.com\n",
       "27477           Brittney Burke       Burke_Brittney16@att.com\n",
       "29906          Cynthia Cabrera    Cabrera.Cynthia@xfinity.com\n",
       "29949              Sarah Floyd              Sarah_F@gmail.com\n",
       "32267           Michelle Villa         Michelle.Villa@aol.com\n",
       "39027           Nichole Hebert       Hebert.Nichole@gmail.com\n",
       "39129         Lindsey Mckenzie       Lindsey.Mckenzie@att.com\n",
       "39525           Ashley Edwards       Edwards.Ashley@yahoo.com\n",
       "70114       Christopher Torres   Torres.Christopher@gmail.com\n",
       "78819   Mrs. Tara Sullivan DVM           Mrs..DVM@xfinity.com\n",
       "78820           Michaela Brown          MichaelaBrown@att.com\n",
       "78822        Kurt Maldonado MD              KMD15@xfinity.com\n",
       "97072         Jason Richardson               Jason.R@zoho.com\n",
       "97099             Terri Hurley            THurley@xfinity.com\n",
       "97261        Mrs. Caitlin Webb             Mrs._W@comcast.net\n",
       "98410             Holly Arroyo          Arroyo_Holly@mail.com\n",
       "98674          Denise Campbell             Denise_C@gmail.com\n",
       "99887            Michael Smith            Michael.S42@aol.com\n",
       "99888       Dr. Trevor Sellers                  Dr._S@aol.com\n",
       "101569            Kayla Murphy         Kayla.Murphy@yahoo.com\n",
       "102061         Taylor Martinez    Taylor.Martinez@hotmail.com\n",
       "109511          Charles Wilson       Charles_Wilson@yahoo.com\n",
       "109590           Tyler Allison         Tyler.A@protonmail.com\n",
       "110082          Matthew Bailey         Matthew_Bailey@aol.com\n",
       "110083       Charlotte Acevedo        Charlotte_A@verizon.com\n",
       "111909         Darrell Brennan  Brennan_Darrell51@hotmail.com\n",
       "111911          Melinda Jensen         MelindaJensen@zoho.com\n",
       "113915            Terry Arnold          Arnold.Terry@zoho.com\n",
       "114770             Mary Nguyen     Nguyen.Mary@protonmail.com\n",
       "114909          Lindsay Cuevas      Lindsay.Cuevas40@mail.com\n",
       "116455       Cynthia Hernandez   CynthiaHernandez@xfinity.com\n",
       "116457          Angela Hawkins             Angela_H@gmail.com\n",
       "118817              Sue Lawson            Sue.L52@comcast.net\n",
       "119161         Alyssa Richards        Alyssa_Richards@aol.com"
      ]
     },
     "execution_count": 26,
     "metadata": {},
     "output_type": "execute_result"
    }
   ],
   "source": [
    "# Do not forget to write the conditional filtering into hotels[]\n",
    "hotels[hotels[\"total_of_special_requests\"]==5][[\"name\", \"email\"]]"
   ]
  },
  {
   "cell_type": "markdown",
   "id": "88371b29-cf51-498d-a5f2-bcd4908b4cb3",
   "metadata": {},
   "source": [
    "#### 14- What percentage of hotel stays were classified as \"repeat guests\"? (See the \"is_repeated_guest\" column)."
   ]
  },
  {
   "cell_type": "code",
   "execution_count": 27,
   "id": "23dfafbc-80ed-4e6a-835f-951800847dc9",
   "metadata": {},
   "outputs": [
    {
     "data": {
      "text/plain": [
       "is_repeated_guest\n",
       "0    115580\n",
       "1      3810\n",
       "Name: count, dtype: int64"
      ]
     },
     "execution_count": 27,
     "metadata": {},
     "output_type": "execute_result"
    }
   ],
   "source": [
    "# First check the value_counts of this column\n",
    "hotels[\"is_repeated_guest\"].value_counts()"
   ]
  },
  {
   "cell_type": "code",
   "execution_count": 28,
   "id": "bad55780-9f36-42cc-8327-31164e21a3b1",
   "metadata": {},
   "outputs": [
    {
     "data": {
      "text/plain": [
       "array([0, 1], dtype=int64)"
      ]
     },
     "execution_count": 28,
     "metadata": {},
     "output_type": "execute_result"
    }
   ],
   "source": [
    "# So, it consists of zeros and ones\n",
    "hotels[\"is_repeated_guest\"].unique()\n",
    "\n",
    "# ones represent repeated guests"
   ]
  },
  {
   "cell_type": "code",
   "execution_count": 29,
   "id": "fbd110cc-e204-4f4e-b4cf-23bd49d12cb2",
   "metadata": {},
   "outputs": [
    {
     "data": {
      "text/plain": [
       "3810"
      ]
     },
     "execution_count": 29,
     "metadata": {},
     "output_type": "execute_result"
    }
   ],
   "source": [
    "# The total number of repeated guests are 3810 \n",
    "sum(hotels[\"is_repeated_guest\"]==1)"
   ]
  },
  {
   "cell_type": "code",
   "execution_count": 30,
   "id": "7cadd64f-ad1d-44c4-9054-152a1b2c35ca",
   "metadata": {},
   "outputs": [
    {
     "data": {
      "text/plain": [
       "3.191222045397437"
      ]
     },
     "execution_count": 30,
     "metadata": {},
     "output_type": "execute_result"
    }
   ],
   "source": [
    "# Its percentage among the total guests\n",
    "100* sum(hotels[\"is_repeated_guest\"]==1) / len(hotels) # to get the total rows use len()"
   ]
  },
  {
   "cell_type": "code",
   "execution_count": 31,
   "id": "fa593aa7-c4fe-4f0e-aadb-eb277ce86683",
   "metadata": {},
   "outputs": [
    {
     "data": {
      "text/plain": [
       "3.19"
      ]
     },
     "execution_count": 31,
     "metadata": {},
     "output_type": "execute_result"
    }
   ],
   "source": [
    "# round it if you want\n",
    "round(100* sum(hotels[\"is_repeated_guest\"]==1) / len(hotels),2)"
   ]
  },
  {
   "cell_type": "markdown",
   "id": "7b81d1ec-b0c8-490d-9fd1-dcd5ad149e77",
   "metadata": {},
   "source": [
    "#### 15- What are the top 5 most common last name in the dataset? Bonus: Can you figure this out in one line of pandas code? (For simplicity treat the a title such as MD as a last name, for example Caroline Conley MD can be said to have the last name MD)"
   ]
  },
  {
   "cell_type": "code",
   "execution_count": 32,
   "id": "69dde908-84a8-471f-88f4-2b782d19dafb",
   "metadata": {},
   "outputs": [
    {
     "data": {
      "text/plain": [
       "0              Ernest Barnes\n",
       "1               Andrea Baker\n",
       "2             Rebecca Parker\n",
       "3               Laura Murray\n",
       "4                Linda Hines\n",
       "                 ...        \n",
       "119385       Claudia Johnson\n",
       "119386        Wesley Aguilar\n",
       "119387          Mary Morales\n",
       "119388    Caroline Conley MD\n",
       "119389        Ariana Michael\n",
       "Name: name, Length: 119390, dtype: object"
      ]
     },
     "execution_count": 32,
     "metadata": {},
     "output_type": "execute_result"
    }
   ],
   "source": [
    "# Let's take a look at the \"name\" column\n",
    "hotels[\"name\"]"
   ]
  },
  {
   "cell_type": "code",
   "execution_count": 33,
   "id": "5afd667e-8e19-4a93-92f4-2679df5b78ba",
   "metadata": {},
   "outputs": [
    {
     "data": {
      "text/plain": [
       "0          Barnes\n",
       "1           Baker\n",
       "2          Parker\n",
       "3          Murray\n",
       "4           Hines\n",
       "           ...   \n",
       "119385    Johnson\n",
       "119386    Aguilar\n",
       "119387    Morales\n",
       "119388         MD\n",
       "119389    Michael\n",
       "Name: name, Length: 119390, dtype: object"
      ]
     },
     "execution_count": 33,
     "metadata": {},
     "output_type": "execute_result"
    }
   ],
   "source": [
    "# We can separete the last name using apply and lambda\n",
    "hotels[\"name\"].apply(lambda name:name.split()[-1])\n",
    "\n",
    "# split() means split it from the white space.\n",
    "# Then we grab last item with [-1], which is the last name\n",
    "# There may be middle names, that's why instead of [1], we should use [-1]"
   ]
  },
  {
   "cell_type": "code",
   "execution_count": 34,
   "id": "d9b6347c-ccee-4e2d-896e-b92fc358eeeb",
   "metadata": {},
   "outputs": [
    {
     "data": {
      "text/plain": [
       "name\n",
       "Smith       2503\n",
       "Johnson     1990\n",
       "Williams    1618\n",
       "Jones       1434\n",
       "Brown       1423\n",
       "Name: count, dtype: int64"
      ]
     },
     "execution_count": 34,
     "metadata": {},
     "output_type": "execute_result"
    }
   ],
   "source": [
    "# Since the top 5 most common last name are asked, use value_counts\n",
    "hotels[\"name\"].apply(lambda name:name.split()[-1]).value_counts()[:5] # the top 5"
   ]
  },
  {
   "cell_type": "code",
   "execution_count": 35,
   "id": "a799c9d0-42ef-4d22-bd3d-40f4b5c0dbf4",
   "metadata": {},
   "outputs": [],
   "source": [
    "# Alternatively, we could write a custom fumction. Therefore, we can call this function whenever we need\n",
    "def grab_lastname(name):\n",
    "    return name.split()[-1] "
   ]
  },
  {
   "cell_type": "code",
   "execution_count": 36,
   "id": "42b4411f-6468-432a-86f9-d33a8a936d1f",
   "metadata": {
    "scrolled": true
   },
   "outputs": [
    {
     "data": {
      "text/plain": [
       "name\n",
       "Smith       2503\n",
       "Johnson     1990\n",
       "Williams    1618\n",
       "Jones       1434\n",
       "Brown       1423\n",
       "Name: count, dtype: int64"
      ]
     },
     "execution_count": 36,
     "metadata": {},
     "output_type": "execute_result"
    }
   ],
   "source": [
    "# Now we can apply this function\n",
    "hotels[\"name\"].apply(grab_lastname).value_counts()[:5]"
   ]
  },
  {
   "cell_type": "markdown",
   "id": "b70c4b92-971d-4bb8-8449-50370411bd63",
   "metadata": {},
   "source": [
    "#### 16- The most common 5 names"
   ]
  },
  {
   "cell_type": "code",
   "execution_count": 37,
   "id": "1fa83fef-27d9-488c-89ad-caccf1f634b7",
   "metadata": {
    "scrolled": true
   },
   "outputs": [
    {
     "data": {
      "text/plain": [
       "name\n",
       "Michael        2603\n",
       "David          1882\n",
       "James          1732\n",
       "Jennifer       1711\n",
       "Christopher    1675\n",
       "Name: count, dtype: int64"
      ]
     },
     "execution_count": 37,
     "metadata": {},
     "output_type": "execute_result"
    }
   ],
   "source": [
    "hotels['name'].apply(lambda name: name.split()[0]).value_counts()[:5]"
   ]
  },
  {
   "cell_type": "markdown",
   "id": "7c12bca1-11aa-47d5-9bf9-7d26860980bd",
   "metadata": {},
   "source": [
    "#### 17- Grab only Michaels in name column. It could be name, middle name or last name."
   ]
  },
  {
   "cell_type": "code",
   "execution_count": 38,
   "id": "1e3c5632-58fa-43a4-b8b4-37f9e3a802f0",
   "metadata": {},
   "outputs": [
    {
     "data": {
      "text/html": [
       "<div>\n",
       "<style scoped>\n",
       "    .dataframe tbody tr th:only-of-type {\n",
       "        vertical-align: middle;\n",
       "    }\n",
       "\n",
       "    .dataframe tbody tr th {\n",
       "        vertical-align: top;\n",
       "    }\n",
       "\n",
       "    .dataframe thead th {\n",
       "        text-align: right;\n",
       "    }\n",
       "</style>\n",
       "<table border=\"1\" class=\"dataframe\">\n",
       "  <thead>\n",
       "    <tr style=\"text-align: right;\">\n",
       "      <th></th>\n",
       "      <th>hotel</th>\n",
       "      <th>is_canceled</th>\n",
       "      <th>lead_time</th>\n",
       "      <th>arrival_date_year</th>\n",
       "      <th>arrival_date_month</th>\n",
       "      <th>arrival_date_week_number</th>\n",
       "      <th>arrival_date_day_of_month</th>\n",
       "      <th>stays_in_weekend_nights</th>\n",
       "      <th>stays_in_week_nights</th>\n",
       "      <th>adults</th>\n",
       "      <th>...</th>\n",
       "      <th>required_car_parking_spaces</th>\n",
       "      <th>total_of_special_requests</th>\n",
       "      <th>reservation_status</th>\n",
       "      <th>reservation_status_date</th>\n",
       "      <th>name</th>\n",
       "      <th>email</th>\n",
       "      <th>phone-number</th>\n",
       "      <th>credit_card</th>\n",
       "      <th>stay_nights</th>\n",
       "      <th>total_cost</th>\n",
       "    </tr>\n",
       "  </thead>\n",
       "  <tbody>\n",
       "    <tr>\n",
       "      <th>9</th>\n",
       "      <td>Resort Hotel</td>\n",
       "      <td>1</td>\n",
       "      <td>75</td>\n",
       "      <td>2015</td>\n",
       "      <td>July</td>\n",
       "      <td>27</td>\n",
       "      <td>1</td>\n",
       "      <td>0</td>\n",
       "      <td>3</td>\n",
       "      <td>2</td>\n",
       "      <td>...</td>\n",
       "      <td>0</td>\n",
       "      <td>0</td>\n",
       "      <td>Canceled</td>\n",
       "      <td>2015-04-22</td>\n",
       "      <td>Michael Moore</td>\n",
       "      <td>MichaelMoore81@outlook.com</td>\n",
       "      <td>316-648-6176</td>\n",
       "      <td>************9190</td>\n",
       "      <td>3</td>\n",
       "      <td>316.5</td>\n",
       "    </tr>\n",
       "    <tr>\n",
       "      <th>26</th>\n",
       "      <td>Resort Hotel</td>\n",
       "      <td>0</td>\n",
       "      <td>48</td>\n",
       "      <td>2015</td>\n",
       "      <td>July</td>\n",
       "      <td>27</td>\n",
       "      <td>1</td>\n",
       "      <td>2</td>\n",
       "      <td>5</td>\n",
       "      <td>2</td>\n",
       "      <td>...</td>\n",
       "      <td>0</td>\n",
       "      <td>0</td>\n",
       "      <td>Check-Out</td>\n",
       "      <td>2015-07-08</td>\n",
       "      <td>Michael Davidson</td>\n",
       "      <td>MichaelDavidson82@att.com</td>\n",
       "      <td>336-525-2460</td>\n",
       "      <td>************8662</td>\n",
       "      <td>7</td>\n",
       "      <td>556.5</td>\n",
       "    </tr>\n",
       "    <tr>\n",
       "      <th>45</th>\n",
       "      <td>Resort Hotel</td>\n",
       "      <td>1</td>\n",
       "      <td>47</td>\n",
       "      <td>2015</td>\n",
       "      <td>July</td>\n",
       "      <td>27</td>\n",
       "      <td>2</td>\n",
       "      <td>2</td>\n",
       "      <td>5</td>\n",
       "      <td>2</td>\n",
       "      <td>...</td>\n",
       "      <td>0</td>\n",
       "      <td>0</td>\n",
       "      <td>Canceled</td>\n",
       "      <td>2015-06-02</td>\n",
       "      <td>Michael Mccormick</td>\n",
       "      <td>Mccormick.Michael19@aol.com</td>\n",
       "      <td>380-830-9585</td>\n",
       "      <td>************2950</td>\n",
       "      <td>7</td>\n",
       "      <td>1071.0</td>\n",
       "    </tr>\n",
       "    <tr>\n",
       "      <th>67</th>\n",
       "      <td>Resort Hotel</td>\n",
       "      <td>0</td>\n",
       "      <td>51</td>\n",
       "      <td>2015</td>\n",
       "      <td>July</td>\n",
       "      <td>27</td>\n",
       "      <td>3</td>\n",
       "      <td>0</td>\n",
       "      <td>2</td>\n",
       "      <td>2</td>\n",
       "      <td>...</td>\n",
       "      <td>0</td>\n",
       "      <td>0</td>\n",
       "      <td>Check-Out</td>\n",
       "      <td>2015-07-05</td>\n",
       "      <td>Michael Whitehead</td>\n",
       "      <td>Michael.W@mail.com</td>\n",
       "      <td>738-618-2202</td>\n",
       "      <td>************8548</td>\n",
       "      <td>2</td>\n",
       "      <td>194.0</td>\n",
       "    </tr>\n",
       "    <tr>\n",
       "      <th>78</th>\n",
       "      <td>Resort Hotel</td>\n",
       "      <td>0</td>\n",
       "      <td>72</td>\n",
       "      <td>2015</td>\n",
       "      <td>July</td>\n",
       "      <td>27</td>\n",
       "      <td>3</td>\n",
       "      <td>2</td>\n",
       "      <td>2</td>\n",
       "      <td>2</td>\n",
       "      <td>...</td>\n",
       "      <td>1</td>\n",
       "      <td>0</td>\n",
       "      <td>Check-Out</td>\n",
       "      <td>2015-07-07</td>\n",
       "      <td>Michael Yu</td>\n",
       "      <td>Michael_Yu59@comcast.net</td>\n",
       "      <td>648-953-8540</td>\n",
       "      <td>************2015</td>\n",
       "      <td>4</td>\n",
       "      <td>442.8</td>\n",
       "    </tr>\n",
       "    <tr>\n",
       "      <th>...</th>\n",
       "      <td>...</td>\n",
       "      <td>...</td>\n",
       "      <td>...</td>\n",
       "      <td>...</td>\n",
       "      <td>...</td>\n",
       "      <td>...</td>\n",
       "      <td>...</td>\n",
       "      <td>...</td>\n",
       "      <td>...</td>\n",
       "      <td>...</td>\n",
       "      <td>...</td>\n",
       "      <td>...</td>\n",
       "      <td>...</td>\n",
       "      <td>...</td>\n",
       "      <td>...</td>\n",
       "      <td>...</td>\n",
       "      <td>...</td>\n",
       "      <td>...</td>\n",
       "      <td>...</td>\n",
       "      <td>...</td>\n",
       "      <td>...</td>\n",
       "    </tr>\n",
       "    <tr>\n",
       "      <th>119247</th>\n",
       "      <td>City Hotel</td>\n",
       "      <td>0</td>\n",
       "      <td>140</td>\n",
       "      <td>2017</td>\n",
       "      <td>August</td>\n",
       "      <td>35</td>\n",
       "      <td>27</td>\n",
       "      <td>2</td>\n",
       "      <td>3</td>\n",
       "      <td>2</td>\n",
       "      <td>...</td>\n",
       "      <td>0</td>\n",
       "      <td>0</td>\n",
       "      <td>Check-Out</td>\n",
       "      <td>2017-09-01</td>\n",
       "      <td>Michael Holder</td>\n",
       "      <td>Michael_H90@mail.com</td>\n",
       "      <td>764-781-5973</td>\n",
       "      <td>************3810</td>\n",
       "      <td>5</td>\n",
       "      <td>1175.0</td>\n",
       "    </tr>\n",
       "    <tr>\n",
       "      <th>119249</th>\n",
       "      <td>City Hotel</td>\n",
       "      <td>0</td>\n",
       "      <td>131</td>\n",
       "      <td>2017</td>\n",
       "      <td>August</td>\n",
       "      <td>35</td>\n",
       "      <td>27</td>\n",
       "      <td>2</td>\n",
       "      <td>3</td>\n",
       "      <td>2</td>\n",
       "      <td>...</td>\n",
       "      <td>0</td>\n",
       "      <td>0</td>\n",
       "      <td>Check-Out</td>\n",
       "      <td>2017-09-01</td>\n",
       "      <td>Michael Blankenship</td>\n",
       "      <td>Blankenship.Michael@outlook.com</td>\n",
       "      <td>351-481-7098</td>\n",
       "      <td>************4183</td>\n",
       "      <td>5</td>\n",
       "      <td>445.5</td>\n",
       "    </tr>\n",
       "    <tr>\n",
       "      <th>119293</th>\n",
       "      <td>City Hotel</td>\n",
       "      <td>0</td>\n",
       "      <td>243</td>\n",
       "      <td>2017</td>\n",
       "      <td>August</td>\n",
       "      <td>35</td>\n",
       "      <td>30</td>\n",
       "      <td>0</td>\n",
       "      <td>3</td>\n",
       "      <td>2</td>\n",
       "      <td>...</td>\n",
       "      <td>0</td>\n",
       "      <td>3</td>\n",
       "      <td>Check-Out</td>\n",
       "      <td>2017-09-02</td>\n",
       "      <td>Michael Miller</td>\n",
       "      <td>Michael.Miller@comcast.net</td>\n",
       "      <td>235-010-4505</td>\n",
       "      <td>************2107</td>\n",
       "      <td>3</td>\n",
       "      <td>567.0</td>\n",
       "    </tr>\n",
       "    <tr>\n",
       "      <th>119374</th>\n",
       "      <td>City Hotel</td>\n",
       "      <td>0</td>\n",
       "      <td>201</td>\n",
       "      <td>2017</td>\n",
       "      <td>August</td>\n",
       "      <td>35</td>\n",
       "      <td>29</td>\n",
       "      <td>1</td>\n",
       "      <td>5</td>\n",
       "      <td>2</td>\n",
       "      <td>...</td>\n",
       "      <td>0</td>\n",
       "      <td>2</td>\n",
       "      <td>Check-Out</td>\n",
       "      <td>2017-09-04</td>\n",
       "      <td>Michael Deleon</td>\n",
       "      <td>Michael_D@att.com</td>\n",
       "      <td>415-740-0604</td>\n",
       "      <td>************2792</td>\n",
       "      <td>6</td>\n",
       "      <td>702.0</td>\n",
       "    </tr>\n",
       "    <tr>\n",
       "      <th>119389</th>\n",
       "      <td>City Hotel</td>\n",
       "      <td>0</td>\n",
       "      <td>205</td>\n",
       "      <td>2017</td>\n",
       "      <td>August</td>\n",
       "      <td>35</td>\n",
       "      <td>29</td>\n",
       "      <td>2</td>\n",
       "      <td>7</td>\n",
       "      <td>2</td>\n",
       "      <td>...</td>\n",
       "      <td>0</td>\n",
       "      <td>2</td>\n",
       "      <td>Check-Out</td>\n",
       "      <td>2017-09-07</td>\n",
       "      <td>Ariana Michael</td>\n",
       "      <td>Ariana_M@xfinity.com</td>\n",
       "      <td>422-804-6403</td>\n",
       "      <td>************4482</td>\n",
       "      <td>9</td>\n",
       "      <td>1360.8</td>\n",
       "    </tr>\n",
       "  </tbody>\n",
       "</table>\n",
       "<p>2722 rows × 37 columns</p>\n",
       "</div>"
      ],
      "text/plain": [
       "               hotel  is_canceled  lead_time  arrival_date_year  \\\n",
       "9       Resort Hotel            1         75               2015   \n",
       "26      Resort Hotel            0         48               2015   \n",
       "45      Resort Hotel            1         47               2015   \n",
       "67      Resort Hotel            0         51               2015   \n",
       "78      Resort Hotel            0         72               2015   \n",
       "...              ...          ...        ...                ...   \n",
       "119247    City Hotel            0        140               2017   \n",
       "119249    City Hotel            0        131               2017   \n",
       "119293    City Hotel            0        243               2017   \n",
       "119374    City Hotel            0        201               2017   \n",
       "119389    City Hotel            0        205               2017   \n",
       "\n",
       "       arrival_date_month  arrival_date_week_number  \\\n",
       "9                    July                        27   \n",
       "26                   July                        27   \n",
       "45                   July                        27   \n",
       "67                   July                        27   \n",
       "78                   July                        27   \n",
       "...                   ...                       ...   \n",
       "119247             August                        35   \n",
       "119249             August                        35   \n",
       "119293             August                        35   \n",
       "119374             August                        35   \n",
       "119389             August                        35   \n",
       "\n",
       "        arrival_date_day_of_month  stays_in_weekend_nights  \\\n",
       "9                               1                        0   \n",
       "26                              1                        2   \n",
       "45                              2                        2   \n",
       "67                              3                        0   \n",
       "78                              3                        2   \n",
       "...                           ...                      ...   \n",
       "119247                         27                        2   \n",
       "119249                         27                        2   \n",
       "119293                         30                        0   \n",
       "119374                         29                        1   \n",
       "119389                         29                        2   \n",
       "\n",
       "        stays_in_week_nights  adults  ...  required_car_parking_spaces  \\\n",
       "9                          3       2  ...                            0   \n",
       "26                         5       2  ...                            0   \n",
       "45                         5       2  ...                            0   \n",
       "67                         2       2  ...                            0   \n",
       "78                         2       2  ...                            1   \n",
       "...                      ...     ...  ...                          ...   \n",
       "119247                     3       2  ...                            0   \n",
       "119249                     3       2  ...                            0   \n",
       "119293                     3       2  ...                            0   \n",
       "119374                     5       2  ...                            0   \n",
       "119389                     7       2  ...                            0   \n",
       "\n",
       "        total_of_special_requests reservation_status reservation_status_date  \\\n",
       "9                               0           Canceled              2015-04-22   \n",
       "26                              0          Check-Out              2015-07-08   \n",
       "45                              0           Canceled              2015-06-02   \n",
       "67                              0          Check-Out              2015-07-05   \n",
       "78                              0          Check-Out              2015-07-07   \n",
       "...                           ...                ...                     ...   \n",
       "119247                          0          Check-Out              2017-09-01   \n",
       "119249                          0          Check-Out              2017-09-01   \n",
       "119293                          3          Check-Out              2017-09-02   \n",
       "119374                          2          Check-Out              2017-09-04   \n",
       "119389                          2          Check-Out              2017-09-07   \n",
       "\n",
       "                       name                            email  phone-number  \\\n",
       "9             Michael Moore       MichaelMoore81@outlook.com  316-648-6176   \n",
       "26         Michael Davidson        MichaelDavidson82@att.com  336-525-2460   \n",
       "45        Michael Mccormick      Mccormick.Michael19@aol.com  380-830-9585   \n",
       "67        Michael Whitehead               Michael.W@mail.com  738-618-2202   \n",
       "78               Michael Yu         Michael_Yu59@comcast.net  648-953-8540   \n",
       "...                     ...                              ...           ...   \n",
       "119247       Michael Holder             Michael_H90@mail.com  764-781-5973   \n",
       "119249  Michael Blankenship  Blankenship.Michael@outlook.com  351-481-7098   \n",
       "119293       Michael Miller       Michael.Miller@comcast.net  235-010-4505   \n",
       "119374       Michael Deleon                Michael_D@att.com  415-740-0604   \n",
       "119389       Ariana Michael             Ariana_M@xfinity.com  422-804-6403   \n",
       "\n",
       "             credit_card  stay_nights total_cost  \n",
       "9       ************9190            3      316.5  \n",
       "26      ************8662            7      556.5  \n",
       "45      ************2950            7     1071.0  \n",
       "67      ************8548            2      194.0  \n",
       "78      ************2015            4      442.8  \n",
       "...                  ...          ...        ...  \n",
       "119247  ************3810            5     1175.0  \n",
       "119249  ************4183            5      445.5  \n",
       "119293  ************2107            3      567.0  \n",
       "119374  ************2792            6      702.0  \n",
       "119389  ************4482            9     1360.8  \n",
       "\n",
       "[2722 rows x 37 columns]"
      ]
     },
     "execution_count": 38,
     "metadata": {},
     "output_type": "execute_result"
    }
   ],
   "source": [
    "# Let's check Michaels in this datafram\n",
    "# Let's find names containing \"Michael\"\n",
    "michael_names = hotels[hotels['name'].str.contains('Michael')]\n",
    "michael_names "
   ]
  },
  {
   "cell_type": "markdown",
   "id": "1d30b455-9e45-41a2-b6a0-c72dd1932228",
   "metadata": {},
   "source": [
    "#### 18- Grab only Michaels as the first name."
   ]
  },
  {
   "cell_type": "code",
   "execution_count": 39,
   "id": "c4b1fb06-b591-499f-823a-3d7a960250b5",
   "metadata": {},
   "outputs": [
    {
     "data": {
      "text/plain": [
       "9         Michael\n",
       "26        Michael\n",
       "45        Michael\n",
       "67        Michael\n",
       "78        Michael\n",
       "           ...   \n",
       "119217    Michael\n",
       "119247    Michael\n",
       "119249    Michael\n",
       "119293    Michael\n",
       "119374    Michael\n",
       "Name: first_name, Length: 2625, dtype: object"
      ]
     },
     "execution_count": 39,
     "metadata": {},
     "output_type": "execute_result"
    }
   ],
   "source": [
    "# Extract first names\n",
    "hotels['first_name'] = hotels['name'].str.split().str[0]\n",
    "\n",
    "# Filter names containing \"Michael\"\n",
    "michael_first_names = hotels[hotels['first_name'].str.contains('Michael')]\n",
    "\n",
    "michael_first_names['first_name']"
   ]
  },
  {
   "cell_type": "code",
   "execution_count": 40,
   "id": "473c918a-e415-4893-9d8b-42754aa27d1d",
   "metadata": {},
   "outputs": [
    {
     "data": {
      "text/plain": [
       "2625"
      ]
     },
     "execution_count": 40,
     "metadata": {},
     "output_type": "execute_result"
    }
   ],
   "source": [
    "# So there are 2625 names beginning Michael\n",
    "len(michael_first_names)"
   ]
  },
  {
   "cell_type": "markdown",
   "id": "a4880d0b-4eda-4523-9991-a744dc5a2e41",
   "metadata": {},
   "source": [
    "#### 19- What are the names of the people who had booked the most number of children and babies for their stay? (If they canceled, only consider number of people reported at the time of their reservation)."
   ]
  },
  {
   "cell_type": "code",
   "execution_count": 41,
   "id": "41dbeffc-70b5-433d-95ee-15be6cf42f46",
   "metadata": {},
   "outputs": [],
   "source": [
    "# We cam find the total number of children (babies and children) and assign it to a new column\n",
    "# Then we can sort this new column\n",
    "hotels[\"total_kids\"] = hotels[\"babies\"] + hotels[\"children\"]"
   ]
  },
  {
   "cell_type": "code",
   "execution_count": 42,
   "id": "a0e81f2d-2e34-4a9d-b27e-a9f79594024d",
   "metadata": {},
   "outputs": [
    {
     "data": {
      "text/plain": [
       "328           Jamie Ramirez\n",
       "46619       Nicholas Parker\n",
       "78656         Marc Robinson\n",
       "19718     Mr. Jeffrey Cross\n",
       "107837        Albert French\n",
       "                ...        \n",
       "119389       Ariana Michael\n",
       "40600          Craig Campos\n",
       "40667          David Murphy\n",
       "40679          Frank Burton\n",
       "41160         Jerry Roberts\n",
       "Name: name, Length: 119390, dtype: object"
      ]
     },
     "execution_count": 42,
     "metadata": {},
     "output_type": "execute_result"
    }
   ],
   "source": [
    "# Sort this new column with \"name\" column\n",
    "hotels.sort_values(\"total_kids\", ascending=False)[\"name\"]"
   ]
  },
  {
   "cell_type": "code",
   "execution_count": 43,
   "id": "410e8b1c-0900-4faf-bbac-d8ed24f32797",
   "metadata": {},
   "outputs": [
    {
     "data": {
      "text/html": [
       "<div>\n",
       "<style scoped>\n",
       "    .dataframe tbody tr th:only-of-type {\n",
       "        vertical-align: middle;\n",
       "    }\n",
       "\n",
       "    .dataframe tbody tr th {\n",
       "        vertical-align: top;\n",
       "    }\n",
       "\n",
       "    .dataframe thead th {\n",
       "        text-align: right;\n",
       "    }\n",
       "</style>\n",
       "<table border=\"1\" class=\"dataframe\">\n",
       "  <thead>\n",
       "    <tr style=\"text-align: right;\">\n",
       "      <th></th>\n",
       "      <th>name</th>\n",
       "      <th>total_kids</th>\n",
       "    </tr>\n",
       "  </thead>\n",
       "  <tbody>\n",
       "    <tr>\n",
       "      <th>328</th>\n",
       "      <td>Jamie Ramirez</td>\n",
       "      <td>10.0</td>\n",
       "    </tr>\n",
       "    <tr>\n",
       "      <th>46619</th>\n",
       "      <td>Nicholas Parker</td>\n",
       "      <td>10.0</td>\n",
       "    </tr>\n",
       "    <tr>\n",
       "      <th>78656</th>\n",
       "      <td>Marc Robinson</td>\n",
       "      <td>9.0</td>\n",
       "    </tr>\n",
       "    <tr>\n",
       "      <th>19718</th>\n",
       "      <td>Mr. Jeffrey Cross</td>\n",
       "      <td>3.0</td>\n",
       "    </tr>\n",
       "    <tr>\n",
       "      <th>107837</th>\n",
       "      <td>Albert French</td>\n",
       "      <td>3.0</td>\n",
       "    </tr>\n",
       "    <tr>\n",
       "      <th>...</th>\n",
       "      <td>...</td>\n",
       "      <td>...</td>\n",
       "    </tr>\n",
       "    <tr>\n",
       "      <th>119389</th>\n",
       "      <td>Ariana Michael</td>\n",
       "      <td>0.0</td>\n",
       "    </tr>\n",
       "    <tr>\n",
       "      <th>40600</th>\n",
       "      <td>Craig Campos</td>\n",
       "      <td>NaN</td>\n",
       "    </tr>\n",
       "    <tr>\n",
       "      <th>40667</th>\n",
       "      <td>David Murphy</td>\n",
       "      <td>NaN</td>\n",
       "    </tr>\n",
       "    <tr>\n",
       "      <th>40679</th>\n",
       "      <td>Frank Burton</td>\n",
       "      <td>NaN</td>\n",
       "    </tr>\n",
       "    <tr>\n",
       "      <th>41160</th>\n",
       "      <td>Jerry Roberts</td>\n",
       "      <td>NaN</td>\n",
       "    </tr>\n",
       "  </tbody>\n",
       "</table>\n",
       "<p>119390 rows × 2 columns</p>\n",
       "</div>"
      ],
      "text/plain": [
       "                     name  total_kids\n",
       "328         Jamie Ramirez        10.0\n",
       "46619     Nicholas Parker        10.0\n",
       "78656       Marc Robinson         9.0\n",
       "19718   Mr. Jeffrey Cross         3.0\n",
       "107837      Albert French         3.0\n",
       "...                   ...         ...\n",
       "119389     Ariana Michael         0.0\n",
       "40600        Craig Campos         NaN\n",
       "40667        David Murphy         NaN\n",
       "40679        Frank Burton         NaN\n",
       "41160       Jerry Roberts         NaN\n",
       "\n",
       "[119390 rows x 2 columns]"
      ]
     },
     "execution_count": 43,
     "metadata": {},
     "output_type": "execute_result"
    }
   ],
   "source": [
    "# We can also display it with total kids column as a data frame\n",
    "hotels.sort_values(\"total_kids\", ascending=False)[[\"name\", \"total_kids\"]]"
   ]
  },
  {
   "cell_type": "code",
   "execution_count": 44,
   "id": "daee3376-d0ed-49b6-9906-91de2f4e964b",
   "metadata": {},
   "outputs": [
    {
     "data": {
      "text/html": [
       "<div>\n",
       "<style scoped>\n",
       "    .dataframe tbody tr th:only-of-type {\n",
       "        vertical-align: middle;\n",
       "    }\n",
       "\n",
       "    .dataframe tbody tr th {\n",
       "        vertical-align: top;\n",
       "    }\n",
       "\n",
       "    .dataframe thead th {\n",
       "        text-align: right;\n",
       "    }\n",
       "</style>\n",
       "<table border=\"1\" class=\"dataframe\">\n",
       "  <thead>\n",
       "    <tr style=\"text-align: right;\">\n",
       "      <th></th>\n",
       "      <th>name</th>\n",
       "      <th>adults</th>\n",
       "      <th>total_kids</th>\n",
       "      <th>babies</th>\n",
       "      <th>children</th>\n",
       "    </tr>\n",
       "  </thead>\n",
       "  <tbody>\n",
       "    <tr>\n",
       "      <th>328</th>\n",
       "      <td>Jamie Ramirez</td>\n",
       "      <td>2</td>\n",
       "      <td>10.0</td>\n",
       "      <td>0</td>\n",
       "      <td>10.0</td>\n",
       "    </tr>\n",
       "    <tr>\n",
       "      <th>46619</th>\n",
       "      <td>Nicholas Parker</td>\n",
       "      <td>2</td>\n",
       "      <td>10.0</td>\n",
       "      <td>10</td>\n",
       "      <td>0.0</td>\n",
       "    </tr>\n",
       "    <tr>\n",
       "      <th>78656</th>\n",
       "      <td>Marc Robinson</td>\n",
       "      <td>1</td>\n",
       "      <td>9.0</td>\n",
       "      <td>9</td>\n",
       "      <td>0.0</td>\n",
       "    </tr>\n",
       "  </tbody>\n",
       "</table>\n",
       "</div>"
      ],
      "text/plain": [
       "                  name  adults  total_kids  babies  children\n",
       "328      Jamie Ramirez       2        10.0       0      10.0\n",
       "46619  Nicholas Parker       2        10.0      10       0.0\n",
       "78656    Marc Robinson       1         9.0       9       0.0"
      ]
     },
     "execution_count": 44,
     "metadata": {},
     "output_type": "execute_result"
    }
   ],
   "source": [
    "# Let's see the first three names who booked the highest number of children for stay\n",
    "hotels.sort_values('total_kids',ascending=False)[['name','adults','total_kids','babies','children']][:3]"
   ]
  },
  {
   "cell_type": "markdown",
   "id": "840af029-d7d0-49b9-ad35-e7b5e278929c",
   "metadata": {},
   "source": [
    "#### 20- What are the top 3 most common area code in the phone numbers? (Area code is first 3 digits)"
   ]
  },
  {
   "cell_type": "code",
   "execution_count": 45,
   "id": "1e6a6264-bde7-4c48-91a5-0018e13341da",
   "metadata": {},
   "outputs": [
    {
     "data": {
      "text/plain": [
       "0         669-792-1661\n",
       "1         858-637-6955\n",
       "2         652-885-2745\n",
       "3         364-656-8427\n",
       "4         713-226-5883\n",
       "              ...     \n",
       "119385    403-092-5582\n",
       "119386    238-763-0612\n",
       "119387    395-518-4100\n",
       "119388    531-528-1017\n",
       "119389    422-804-6403\n",
       "Name: phone-number, Length: 119390, dtype: object"
      ]
     },
     "execution_count": 45,
     "metadata": {},
     "output_type": "execute_result"
    }
   ],
   "source": [
    "# We have \"phone-number\" column. We need to grab the firs 3 digits. First see hot it looks like.\n",
    "hotels[\"phone-number\"]"
   ]
  },
  {
   "cell_type": "code",
   "execution_count": 46,
   "id": "db14040f-4be2-4af4-8432-9261db8ac00c",
   "metadata": {},
   "outputs": [
    {
     "data": {
      "text/plain": [
       "0         669\n",
       "1         858\n",
       "2         652\n",
       "3         364\n",
       "4         713\n",
       "         ... \n",
       "119385    403\n",
       "119386    238\n",
       "119387    395\n",
       "119388    531\n",
       "119389    422\n",
       "Name: phone-number, Length: 119390, dtype: object"
      ]
     },
     "execution_count": 46,
     "metadata": {},
     "output_type": "execute_result"
    }
   ],
   "source": [
    "# We can grab the first 3 digits( frst group before the \"-\" sign)\n",
    "hotels[\"phone-number\"].apply(lambda phone:phone.split(\"-\")[0])"
   ]
  },
  {
   "cell_type": "code",
   "execution_count": 47,
   "id": "b016201d-59e6-466d-88a0-7791e53e7e91",
   "metadata": {},
   "outputs": [
    {
     "data": {
      "text/plain": [
       "phone-number\n",
       "799    168\n",
       "185    167\n",
       "541    166\n",
       "Name: count, dtype: int64"
      ]
     },
     "execution_count": 47,
     "metadata": {},
     "output_type": "execute_result"
    }
   ],
   "source": [
    "# use value counts to see the top 3 most common area code\n",
    "hotels[\"phone-number\"].apply(lambda phone:phone.split(\"-\")[0]).value_counts()[:3]"
   ]
  },
  {
   "cell_type": "code",
   "execution_count": 48,
   "id": "b30f3735-e812-44a0-a3ec-3032bcae949a",
   "metadata": {},
   "outputs": [
    {
     "name": "stdout",
     "output_type": "stream",
     "text": [
      "Code - Total Count\n"
     ]
    },
    {
     "data": {
      "text/plain": [
       "phone-number\n",
       "799    168\n",
       "185    167\n",
       "541    166\n",
       "Name: count, dtype: int64"
      ]
     },
     "execution_count": 48,
     "metadata": {},
     "output_type": "execute_result"
    }
   ],
   "source": [
    "# Let's write it in another way\n",
    "print('Code - Total Count')\n",
    "hotels['phone-number'].apply(lambda num:num[:3]).value_counts()[:3]"
   ]
  },
  {
   "cell_type": "markdown",
   "id": "b2e3b91c-315d-40af-8a8c-aef434e19c4b",
   "metadata": {},
   "source": [
    "So, \"799\", \"185\" and \"541\" are the most common three area codes."
   ]
  },
  {
   "cell_type": "markdown",
   "id": "c51a867b-a363-4f86-878c-953380ee1dc3",
   "metadata": {},
   "source": [
    "#### 21- How many arrivals took place between the 1st and the 15th of the month (inclusive of 1 and 15) ? Bonus: Can you do this in one line of pandas code?"
   ]
  },
  {
   "cell_type": "code",
   "execution_count": 49,
   "id": "764d08c1-ec3e-4264-b7c3-26ce1f9c9f50",
   "metadata": {},
   "outputs": [
    {
     "data": {
      "text/plain": [
       "0          1\n",
       "1          1\n",
       "2          1\n",
       "3          1\n",
       "4          1\n",
       "          ..\n",
       "119385    30\n",
       "119386    31\n",
       "119387    31\n",
       "119388    31\n",
       "119389    29\n",
       "Name: arrival_date_day_of_month, Length: 119390, dtype: int64"
      ]
     },
     "execution_count": 49,
     "metadata": {},
     "output_type": "execute_result"
    }
   ],
   "source": [
    "# First, let's take a look at the column\n",
    "hotels[\"arrival_date_day_of_month\"]"
   ]
  },
  {
   "cell_type": "code",
   "execution_count": 50,
   "id": "c42c7f79-5e79-4e00-81ca-a712e245ea39",
   "metadata": {},
   "outputs": [
    {
     "data": {
      "text/plain": [
       "58152"
      ]
     },
     "execution_count": 50,
     "metadata": {},
     "output_type": "execute_result"
    }
   ],
   "source": [
    "# We can apply method with lambda \n",
    "# range can help us to grab 15 days\n",
    "# Finally, we can use sum to see the total numbers\n",
    "hotels[\"arrival_date_day_of_month\"].apply(lambda day:day in range(1,16)).sum()\n"
   ]
  },
  {
   "cell_type": "markdown",
   "id": "721dc333-b85f-4122-84f1-8d45201b7ddf",
   "metadata": {},
   "source": [
    "#### 22- Create a table for counts for each day of the week that people arrived. (E.g. 5000 arrivals were on a Monday, 3000 were on a Tuesday, etc..)"
   ]
  },
  {
   "cell_type": "code",
   "execution_count": 51,
   "id": "7121f077-96ba-4b2a-ab9e-25aa5e51e4d0",
   "metadata": {},
   "outputs": [
    {
     "data": {
      "text/html": [
       "<div>\n",
       "<style scoped>\n",
       "    .dataframe tbody tr th:only-of-type {\n",
       "        vertical-align: middle;\n",
       "    }\n",
       "\n",
       "    .dataframe tbody tr th {\n",
       "        vertical-align: top;\n",
       "    }\n",
       "\n",
       "    .dataframe thead th {\n",
       "        text-align: right;\n",
       "    }\n",
       "</style>\n",
       "<table border=\"1\" class=\"dataframe\">\n",
       "  <thead>\n",
       "    <tr style=\"text-align: right;\">\n",
       "      <th></th>\n",
       "      <th>arrival_date_day_of_month</th>\n",
       "      <th>arrival_date_month</th>\n",
       "      <th>arrival_date_year</th>\n",
       "    </tr>\n",
       "  </thead>\n",
       "  <tbody>\n",
       "    <tr>\n",
       "      <th>0</th>\n",
       "      <td>1</td>\n",
       "      <td>July</td>\n",
       "      <td>2015</td>\n",
       "    </tr>\n",
       "    <tr>\n",
       "      <th>1</th>\n",
       "      <td>1</td>\n",
       "      <td>July</td>\n",
       "      <td>2015</td>\n",
       "    </tr>\n",
       "    <tr>\n",
       "      <th>2</th>\n",
       "      <td>1</td>\n",
       "      <td>July</td>\n",
       "      <td>2015</td>\n",
       "    </tr>\n",
       "    <tr>\n",
       "      <th>3</th>\n",
       "      <td>1</td>\n",
       "      <td>July</td>\n",
       "      <td>2015</td>\n",
       "    </tr>\n",
       "    <tr>\n",
       "      <th>4</th>\n",
       "      <td>1</td>\n",
       "      <td>July</td>\n",
       "      <td>2015</td>\n",
       "    </tr>\n",
       "    <tr>\n",
       "      <th>...</th>\n",
       "      <td>...</td>\n",
       "      <td>...</td>\n",
       "      <td>...</td>\n",
       "    </tr>\n",
       "    <tr>\n",
       "      <th>119385</th>\n",
       "      <td>30</td>\n",
       "      <td>August</td>\n",
       "      <td>2017</td>\n",
       "    </tr>\n",
       "    <tr>\n",
       "      <th>119386</th>\n",
       "      <td>31</td>\n",
       "      <td>August</td>\n",
       "      <td>2017</td>\n",
       "    </tr>\n",
       "    <tr>\n",
       "      <th>119387</th>\n",
       "      <td>31</td>\n",
       "      <td>August</td>\n",
       "      <td>2017</td>\n",
       "    </tr>\n",
       "    <tr>\n",
       "      <th>119388</th>\n",
       "      <td>31</td>\n",
       "      <td>August</td>\n",
       "      <td>2017</td>\n",
       "    </tr>\n",
       "    <tr>\n",
       "      <th>119389</th>\n",
       "      <td>29</td>\n",
       "      <td>August</td>\n",
       "      <td>2017</td>\n",
       "    </tr>\n",
       "  </tbody>\n",
       "</table>\n",
       "<p>119390 rows × 3 columns</p>\n",
       "</div>"
      ],
      "text/plain": [
       "        arrival_date_day_of_month arrival_date_month  arrival_date_year\n",
       "0                               1               July               2015\n",
       "1                               1               July               2015\n",
       "2                               1               July               2015\n",
       "3                               1               July               2015\n",
       "4                               1               July               2015\n",
       "...                           ...                ...                ...\n",
       "119385                         30             August               2017\n",
       "119386                         31             August               2017\n",
       "119387                         31             August               2017\n",
       "119388                         31             August               2017\n",
       "119389                         29             August               2017\n",
       "\n",
       "[119390 rows x 3 columns]"
      ]
     },
     "execution_count": 51,
     "metadata": {},
     "output_type": "execute_result"
    }
   ],
   "source": [
    "# Let's see the related date columns\n",
    "hotels[[\"arrival_date_day_of_month\", \"arrival_date_month\", \"arrival_date_year\"]]"
   ]
  },
  {
   "cell_type": "code",
   "execution_count": 52,
   "id": "aad2327e-732b-4fab-ac9a-38525e94c600",
   "metadata": {},
   "outputs": [],
   "source": [
    "# Since there is no datetime column, We need to convert related columns\n",
    "# We will combine date related columns\n",
    "# Let's create a function for day, month and year\n",
    "\n",
    "def convert(day, month, year):\n",
    "    return f\"{day}-{month}-{year}\""
   ]
  },
  {
   "cell_type": "code",
   "execution_count": 53,
   "id": "6ede81c1-e089-4b4e-ad13-0865bde5af6c",
   "metadata": {},
   "outputs": [],
   "source": [
    "# Use this function with \"np.vectorize\"\n",
    "hotels[\"date\"] =np.vectorize(convert)(hotels[\"arrival_date_day_of_month\"],\n",
    "                                     hotels[\"arrival_date_month\"],\n",
    "                                     hotels[\"arrival_date_year\"])"
   ]
  },
  {
   "cell_type": "code",
   "execution_count": 54,
   "id": "9021eb41-dbb7-408c-b633-75f67a1863fd",
   "metadata": {},
   "outputs": [
    {
     "data": {
      "text/plain": [
       "0            1-July-2015\n",
       "1            1-July-2015\n",
       "2            1-July-2015\n",
       "3            1-July-2015\n",
       "4            1-July-2015\n",
       "               ...      \n",
       "119385    30-August-2017\n",
       "119386    31-August-2017\n",
       "119387    31-August-2017\n",
       "119388    31-August-2017\n",
       "119389    29-August-2017\n",
       "Name: date, Length: 119390, dtype: object"
      ]
     },
     "execution_count": 54,
     "metadata": {},
     "output_type": "execute_result"
    }
   ],
   "source": [
    "# Let's see date column\n",
    "hotels[\"date\"]"
   ]
  },
  {
   "cell_type": "code",
   "execution_count": 55,
   "id": "9d8d2b2d-acd0-427f-95e0-50db00c52625",
   "metadata": {},
   "outputs": [],
   "source": [
    "# Now we can convert it to datetime\n",
    "hotels[\"date\"] = pd.to_datetime(hotels[\"date\"])"
   ]
  },
  {
   "cell_type": "code",
   "execution_count": 56,
   "id": "5983ba53-b017-49d4-a512-0f80f20bd420",
   "metadata": {},
   "outputs": [
    {
     "data": {
      "text/plain": [
       "0        2015-07-01\n",
       "1        2015-07-01\n",
       "2        2015-07-01\n",
       "3        2015-07-01\n",
       "4        2015-07-01\n",
       "            ...    \n",
       "119385   2017-08-30\n",
       "119386   2017-08-31\n",
       "119387   2017-08-31\n",
       "119388   2017-08-31\n",
       "119389   2017-08-29\n",
       "Name: date, Length: 119390, dtype: datetime64[ns]"
      ]
     },
     "execution_count": 56,
     "metadata": {},
     "output_type": "execute_result"
    }
   ],
   "source": [
    "hotels[\"date\"]"
   ]
  },
  {
   "cell_type": "code",
   "execution_count": 57,
   "id": "704f0de7-d4d4-42e9-8d2f-68ab213eacfb",
   "metadata": {},
   "outputs": [
    {
     "data": {
      "text/plain": [
       "0         Wednesday\n",
       "1         Wednesday\n",
       "2         Wednesday\n",
       "3         Wednesday\n",
       "4         Wednesday\n",
       "            ...    \n",
       "119385    Wednesday\n",
       "119386     Thursday\n",
       "119387     Thursday\n",
       "119388     Thursday\n",
       "119389      Tuesday\n",
       "Name: date, Length: 119390, dtype: object"
      ]
     },
     "execution_count": 57,
     "metadata": {},
     "output_type": "execute_result"
    }
   ],
   "source": [
    "# Now we can use \"dt\" with day_name() method to see the day names\n",
    "hotels[\"date\"].dt.day_name()"
   ]
  },
  {
   "cell_type": "code",
   "execution_count": 58,
   "id": "23ef392b-b607-4090-8435-7df3393e0a24",
   "metadata": {},
   "outputs": [
    {
     "data": {
      "text/plain": [
       "date\n",
       "Friday       19631\n",
       "Thursday     19254\n",
       "Monday       18171\n",
       "Saturday     18055\n",
       "Wednesday    16139\n",
       "Sunday       14141\n",
       "Tuesday      13999\n",
       "Name: count, dtype: int64"
      ]
     },
     "execution_count": 58,
     "metadata": {},
     "output_type": "execute_result"
    }
   ],
   "source": [
    "# Since its count is asked, we need value_counts\n",
    "hotels[\"date\"].dt.day_name().value_counts()"
   ]
  }
 ],
 "metadata": {
  "kernelspec": {
   "display_name": "Python 3 (ipykernel)",
   "language": "python",
   "name": "python3"
  },
  "language_info": {
   "codemirror_mode": {
    "name": "ipython",
    "version": 3
   },
   "file_extension": ".py",
   "mimetype": "text/x-python",
   "name": "python",
   "nbconvert_exporter": "python",
   "pygments_lexer": "ipython3",
   "version": "3.11.7"
  }
 },
 "nbformat": 4,
 "nbformat_minor": 5
}
